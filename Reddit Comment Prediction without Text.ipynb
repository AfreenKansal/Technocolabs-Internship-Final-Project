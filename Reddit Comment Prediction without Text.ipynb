{
 "cells": [
  {
   "cell_type": "markdown",
   "metadata": {},
   "source": [
    "# Reddit Comments Prediction"
   ]
  },
  {
   "cell_type": "code",
   "execution_count": 64,
   "metadata": {},
   "outputs": [],
   "source": [
    "import pandas as pd\n",
    "import numpy as np\n",
    "import matplotlib.pyplot as plt\n",
    "import seaborn as sns\n",
    "\n"
   ]
  },
  {
   "cell_type": "code",
   "execution_count": 2,
   "metadata": {},
   "outputs": [
    {
     "name": "stderr",
     "output_type": "stream",
     "text": [
      "C:\\Users\\Dell\\anaconda3\\lib\\site-packages\\IPython\\core\\interactiveshell.py:3146: DtypeWarning: Columns (19) have mixed types.Specify dtype option on import or set low_memory=False.\n",
      "  has_raised = await self.run_ast_nodes(code_ast.body, cell_name,\n"
     ]
    }
   ],
   "source": [
    "data=pd.read_csv('data.csv')"
   ]
  },
  {
   "cell_type": "code",
   "execution_count": 3,
   "metadata": {},
   "outputs": [
    {
     "data": {
      "text/html": [
       "<div>\n",
       "<style scoped>\n",
       "    .dataframe tbody tr th:only-of-type {\n",
       "        vertical-align: middle;\n",
       "    }\n",
       "\n",
       "    .dataframe tbody tr th {\n",
       "        vertical-align: top;\n",
       "    }\n",
       "\n",
       "    .dataframe thead th {\n",
       "        text-align: right;\n",
       "    }\n",
       "</style>\n",
       "<table border=\"1\" class=\"dataframe\">\n",
       "  <thead>\n",
       "    <tr style=\"text-align: right;\">\n",
       "      <th></th>\n",
       "      <th>Unnamed: 0</th>\n",
       "      <th>gilded</th>\n",
       "      <th>author_flair_css_class</th>\n",
       "      <th>id</th>\n",
       "      <th>link_id</th>\n",
       "      <th>downs</th>\n",
       "      <th>subreddit</th>\n",
       "      <th>author</th>\n",
       "      <th>score</th>\n",
       "      <th>subreddit_id</th>\n",
       "      <th>...</th>\n",
       "      <th>body</th>\n",
       "      <th>retrieved_on</th>\n",
       "      <th>parent_id</th>\n",
       "      <th>controversiality</th>\n",
       "      <th>name</th>\n",
       "      <th>score_hidden</th>\n",
       "      <th>distinguished</th>\n",
       "      <th>archived</th>\n",
       "      <th>created_utc</th>\n",
       "      <th>removal_reason</th>\n",
       "    </tr>\n",
       "  </thead>\n",
       "  <tbody>\n",
       "    <tr>\n",
       "      <th>0</th>\n",
       "      <td>0</td>\n",
       "      <td>0</td>\n",
       "      <td>NaN</td>\n",
       "      <td>2</td>\n",
       "      <td>t3_7j6z5</td>\n",
       "      <td>0</td>\n",
       "      <td>politics</td>\n",
       "      <td>malcontent</td>\n",
       "      <td>1</td>\n",
       "      <td>t5_2cneq</td>\n",
       "      <td>...</td>\n",
       "      <td>&amp;gt;The business cannot survive paying out ben...</td>\n",
       "      <td>1428217153</td>\n",
       "      <td>t1_c06vdmu</td>\n",
       "      <td>0</td>\n",
       "      <td>t1_2</td>\n",
       "      <td>False</td>\n",
       "      <td>NaN</td>\n",
       "      <td>True</td>\n",
       "      <td>1229580037</td>\n",
       "      <td>NaN</td>\n",
       "    </tr>\n",
       "    <tr>\n",
       "      <th>1</th>\n",
       "      <td>1</td>\n",
       "      <td>0</td>\n",
       "      <td>NaN</td>\n",
       "      <td>3</td>\n",
       "      <td>t3_7jlvw</td>\n",
       "      <td>0</td>\n",
       "      <td>politics</td>\n",
       "      <td>malcontent</td>\n",
       "      <td>1</td>\n",
       "      <td>t5_2cneq</td>\n",
       "      <td>...</td>\n",
       "      <td>&amp;gt;I'm curious, how do you see, beyond defini...</td>\n",
       "      <td>1428217153</td>\n",
       "      <td>t1_c06vcxp</td>\n",
       "      <td>0</td>\n",
       "      <td>t1_3</td>\n",
       "      <td>False</td>\n",
       "      <td>NaN</td>\n",
       "      <td>True</td>\n",
       "      <td>1229580041</td>\n",
       "      <td>NaN</td>\n",
       "    </tr>\n",
       "    <tr>\n",
       "      <th>2</th>\n",
       "      <td>2</td>\n",
       "      <td>0</td>\n",
       "      <td>NaN</td>\n",
       "      <td>4</td>\n",
       "      <td>t3_7jlvw</td>\n",
       "      <td>0</td>\n",
       "      <td>politics</td>\n",
       "      <td>malcontent</td>\n",
       "      <td>2</td>\n",
       "      <td>t5_2cneq</td>\n",
       "      <td>...</td>\n",
       "      <td>&amp;gt;I'm curious, how do you see, beyond defini...</td>\n",
       "      <td>1428217153</td>\n",
       "      <td>t1_c06vcxp</td>\n",
       "      <td>0</td>\n",
       "      <td>t1_4</td>\n",
       "      <td>False</td>\n",
       "      <td>NaN</td>\n",
       "      <td>True</td>\n",
       "      <td>1229580053</td>\n",
       "      <td>NaN</td>\n",
       "    </tr>\n",
       "    <tr>\n",
       "      <th>3</th>\n",
       "      <td>3</td>\n",
       "      <td>0</td>\n",
       "      <td>NaN</td>\n",
       "      <td>5</td>\n",
       "      <td>t3_7k65l</td>\n",
       "      <td>0</td>\n",
       "      <td>WTF</td>\n",
       "      <td>[deleted]</td>\n",
       "      <td>1</td>\n",
       "      <td>t5_2qh61</td>\n",
       "      <td>...</td>\n",
       "      <td>[deleted]</td>\n",
       "      <td>1428217153</td>\n",
       "      <td>t1_c06vuga</td>\n",
       "      <td>0</td>\n",
       "      <td>t1_5</td>\n",
       "      <td>False</td>\n",
       "      <td>NaN</td>\n",
       "      <td>True</td>\n",
       "      <td>1229580067</td>\n",
       "      <td>NaN</td>\n",
       "    </tr>\n",
       "    <tr>\n",
       "      <th>4</th>\n",
       "      <td>4</td>\n",
       "      <td>0</td>\n",
       "      <td>NaN</td>\n",
       "      <td>6</td>\n",
       "      <td>t3_7k97q</td>\n",
       "      <td>0</td>\n",
       "      <td>reddit.com</td>\n",
       "      <td>[deleted]</td>\n",
       "      <td>1</td>\n",
       "      <td>t5_6</td>\n",
       "      <td>...</td>\n",
       "      <td>[deleted]</td>\n",
       "      <td>1428217153</td>\n",
       "      <td>t3_7k97q</td>\n",
       "      <td>0</td>\n",
       "      <td>t1_6</td>\n",
       "      <td>False</td>\n",
       "      <td>NaN</td>\n",
       "      <td>True</td>\n",
       "      <td>1229580072</td>\n",
       "      <td>NaN</td>\n",
       "    </tr>\n",
       "    <tr>\n",
       "      <th>...</th>\n",
       "      <td>...</td>\n",
       "      <td>...</td>\n",
       "      <td>...</td>\n",
       "      <td>...</td>\n",
       "      <td>...</td>\n",
       "      <td>...</td>\n",
       "      <td>...</td>\n",
       "      <td>...</td>\n",
       "      <td>...</td>\n",
       "      <td>...</td>\n",
       "      <td>...</td>\n",
       "      <td>...</td>\n",
       "      <td>...</td>\n",
       "      <td>...</td>\n",
       "      <td>...</td>\n",
       "      <td>...</td>\n",
       "      <td>...</td>\n",
       "      <td>...</td>\n",
       "      <td>...</td>\n",
       "      <td>...</td>\n",
       "      <td>...</td>\n",
       "    </tr>\n",
       "    <tr>\n",
       "      <th>850354</th>\n",
       "      <td>850354</td>\n",
       "      <td>0</td>\n",
       "      <td>NaN</td>\n",
       "      <td>c06vwuf</td>\n",
       "      <td>t3_7k8lt</td>\n",
       "      <td>0</td>\n",
       "      <td>Music</td>\n",
       "      <td>[deleted]</td>\n",
       "      <td>12</td>\n",
       "      <td>t5_2qh1u</td>\n",
       "      <td>...</td>\n",
       "      <td>Yeah, seriously. If anything it \"revalues\" mus...</td>\n",
       "      <td>1428247742</td>\n",
       "      <td>t1_c06vwmo</td>\n",
       "      <td>0</td>\n",
       "      <td>t1_c06vwuf</td>\n",
       "      <td>False</td>\n",
       "      <td>NaN</td>\n",
       "      <td>True</td>\n",
       "      <td>1229579675</td>\n",
       "      <td>NaN</td>\n",
       "    </tr>\n",
       "    <tr>\n",
       "      <th>850355</th>\n",
       "      <td>850355</td>\n",
       "      <td>0</td>\n",
       "      <td>NaN</td>\n",
       "      <td>c06vwug</td>\n",
       "      <td>t3_7k3w5</td>\n",
       "      <td>0</td>\n",
       "      <td>comics</td>\n",
       "      <td>Morgin_Black</td>\n",
       "      <td>0</td>\n",
       "      <td>t5_2qh0s</td>\n",
       "      <td>...</td>\n",
       "      <td>yes, beat it at failing.</td>\n",
       "      <td>1428247742</td>\n",
       "      <td>t3_7k3w5</td>\n",
       "      <td>0</td>\n",
       "      <td>t1_c06vwug</td>\n",
       "      <td>False</td>\n",
       "      <td>NaN</td>\n",
       "      <td>True</td>\n",
       "      <td>1229579679</td>\n",
       "      <td>NaN</td>\n",
       "    </tr>\n",
       "    <tr>\n",
       "      <th>850356</th>\n",
       "      <td>850356</td>\n",
       "      <td>0</td>\n",
       "      <td>NaN</td>\n",
       "      <td>c06vwuh</td>\n",
       "      <td>t3_7k31f</td>\n",
       "      <td>0</td>\n",
       "      <td>Economics</td>\n",
       "      <td>[deleted]</td>\n",
       "      <td>1</td>\n",
       "      <td>t5_2qh1s</td>\n",
       "      <td>...</td>\n",
       "      <td>Yes.  This DRM will have the ability to send s...</td>\n",
       "      <td>1428247742</td>\n",
       "      <td>t1_c06vhkx</td>\n",
       "      <td>0</td>\n",
       "      <td>t1_c06vwuh</td>\n",
       "      <td>False</td>\n",
       "      <td>NaN</td>\n",
       "      <td>True</td>\n",
       "      <td>1229579680</td>\n",
       "      <td>NaN</td>\n",
       "    </tr>\n",
       "    <tr>\n",
       "      <th>850357</th>\n",
       "      <td>850357</td>\n",
       "      <td>0</td>\n",
       "      <td>NaN</td>\n",
       "      <td>c06vwui</td>\n",
       "      <td>t3_7k2bc</td>\n",
       "      <td>0</td>\n",
       "      <td>atheism</td>\n",
       "      <td>onezerozeroone</td>\n",
       "      <td>1</td>\n",
       "      <td>t5_2qh2p</td>\n",
       "      <td>...</td>\n",
       "      <td>To be fair, I think the original poster meant ...</td>\n",
       "      <td>1428247742</td>\n",
       "      <td>t1_c06vrvz</td>\n",
       "      <td>0</td>\n",
       "      <td>t1_c06vwui</td>\n",
       "      <td>False</td>\n",
       "      <td>NaN</td>\n",
       "      <td>True</td>\n",
       "      <td>1229579685</td>\n",
       "      <td>NaN</td>\n",
       "    </tr>\n",
       "    <tr>\n",
       "      <th>850358</th>\n",
       "      <td>850358</td>\n",
       "      <td>0</td>\n",
       "      <td>NaN</td>\n",
       "      <td>c06vwuj</td>\n",
       "      <td>t3_7k65l</td>\n",
       "      <td>0</td>\n",
       "      <td>WTF</td>\n",
       "      <td>vypermann</td>\n",
       "      <td>0</td>\n",
       "      <td>t5_2qh61</td>\n",
       "      <td>...</td>\n",
       "      <td>http://www.ilovewavs.com/Effects/Music/Sound%2...</td>\n",
       "      <td>1428247742</td>\n",
       "      <td>t1_c06vvzu</td>\n",
       "      <td>0</td>\n",
       "      <td>t1_c06vwuj</td>\n",
       "      <td>False</td>\n",
       "      <td>NaN</td>\n",
       "      <td>True</td>\n",
       "      <td>1229579686</td>\n",
       "      <td>NaN</td>\n",
       "    </tr>\n",
       "  </tbody>\n",
       "</table>\n",
       "<p>850359 rows × 23 columns</p>\n",
       "</div>"
      ],
      "text/plain": [
       "        Unnamed: 0  gilded author_flair_css_class       id   link_id  downs  \\\n",
       "0                0       0                    NaN        2  t3_7j6z5      0   \n",
       "1                1       0                    NaN        3  t3_7jlvw      0   \n",
       "2                2       0                    NaN        4  t3_7jlvw      0   \n",
       "3                3       0                    NaN        5  t3_7k65l      0   \n",
       "4                4       0                    NaN        6  t3_7k97q      0   \n",
       "...            ...     ...                    ...      ...       ...    ...   \n",
       "850354      850354       0                    NaN  c06vwuf  t3_7k8lt      0   \n",
       "850355      850355       0                    NaN  c06vwug  t3_7k3w5      0   \n",
       "850356      850356       0                    NaN  c06vwuh  t3_7k31f      0   \n",
       "850357      850357       0                    NaN  c06vwui  t3_7k2bc      0   \n",
       "850358      850358       0                    NaN  c06vwuj  t3_7k65l      0   \n",
       "\n",
       "         subreddit          author  score subreddit_id  ...  \\\n",
       "0         politics      malcontent      1     t5_2cneq  ...   \n",
       "1         politics      malcontent      1     t5_2cneq  ...   \n",
       "2         politics      malcontent      2     t5_2cneq  ...   \n",
       "3              WTF       [deleted]      1     t5_2qh61  ...   \n",
       "4       reddit.com       [deleted]      1         t5_6  ...   \n",
       "...            ...             ...    ...          ...  ...   \n",
       "850354       Music       [deleted]     12     t5_2qh1u  ...   \n",
       "850355      comics    Morgin_Black      0     t5_2qh0s  ...   \n",
       "850356   Economics       [deleted]      1     t5_2qh1s  ...   \n",
       "850357     atheism  onezerozeroone      1     t5_2qh2p  ...   \n",
       "850358         WTF       vypermann      0     t5_2qh61  ...   \n",
       "\n",
       "                                                     body  retrieved_on  \\\n",
       "0       &gt;The business cannot survive paying out ben...    1428217153   \n",
       "1       &gt;I'm curious, how do you see, beyond defini...    1428217153   \n",
       "2       &gt;I'm curious, how do you see, beyond defini...    1428217153   \n",
       "3                                               [deleted]    1428217153   \n",
       "4                                               [deleted]    1428217153   \n",
       "...                                                   ...           ...   \n",
       "850354  Yeah, seriously. If anything it \"revalues\" mus...    1428247742   \n",
       "850355                           yes, beat it at failing.    1428247742   \n",
       "850356  Yes.  This DRM will have the ability to send s...    1428247742   \n",
       "850357  To be fair, I think the original poster meant ...    1428247742   \n",
       "850358  http://www.ilovewavs.com/Effects/Music/Sound%2...    1428247742   \n",
       "\n",
       "         parent_id controversiality        name score_hidden  distinguished  \\\n",
       "0       t1_c06vdmu                0        t1_2        False            NaN   \n",
       "1       t1_c06vcxp                0        t1_3        False            NaN   \n",
       "2       t1_c06vcxp                0        t1_4        False            NaN   \n",
       "3       t1_c06vuga                0        t1_5        False            NaN   \n",
       "4         t3_7k97q                0        t1_6        False            NaN   \n",
       "...            ...              ...         ...          ...            ...   \n",
       "850354  t1_c06vwmo                0  t1_c06vwuf        False            NaN   \n",
       "850355    t3_7k3w5                0  t1_c06vwug        False            NaN   \n",
       "850356  t1_c06vhkx                0  t1_c06vwuh        False            NaN   \n",
       "850357  t1_c06vrvz                0  t1_c06vwui        False            NaN   \n",
       "850358  t1_c06vvzu                0  t1_c06vwuj        False            NaN   \n",
       "\n",
       "       archived  created_utc removal_reason  \n",
       "0          True   1229580037            NaN  \n",
       "1          True   1229580041            NaN  \n",
       "2          True   1229580053            NaN  \n",
       "3          True   1229580067            NaN  \n",
       "4          True   1229580072            NaN  \n",
       "...         ...          ...            ...  \n",
       "850354     True   1229579675            NaN  \n",
       "850355     True   1229579679            NaN  \n",
       "850356     True   1229579680            NaN  \n",
       "850357     True   1229579685            NaN  \n",
       "850358     True   1229579686            NaN  \n",
       "\n",
       "[850359 rows x 23 columns]"
      ]
     },
     "execution_count": 3,
     "metadata": {},
     "output_type": "execute_result"
    }
   ],
   "source": [
    "data"
   ]
  },
  {
   "cell_type": "code",
   "execution_count": 53,
   "metadata": {},
   "outputs": [
    {
     "data": {
      "text/plain": [
       "Series([], Name: removal_reason, dtype: int64)"
      ]
     },
     "execution_count": 53,
     "metadata": {},
     "output_type": "execute_result"
    }
   ],
   "source": [
    "data['removal_reason'].value_counts()"
   ]
  },
  {
   "attachments": {},
   "cell_type": "markdown",
   "metadata": {},
   "source": [
    "### columns that are irrelevant \n",
    "author_flair_css_class <br>\n",
    "id <br>\n",
    "link_id <br>\n",
    "author <br>\n",
    "subreddit_id <br>\n",
    "body <br>\n",
    "parent_id <br>\n",
    "name <br>\n",
    "Unnamed: 0\n",
    "<br><br> <b>We will remove the above columns and use the remaining ones. </b>"
   ]
  },
  {
   "cell_type": "code",
   "execution_count": 325,
   "metadata": {},
   "outputs": [],
   "source": [
    "remaining=data.drop(columns=['author_flair_css_class','id','link_id','author','subreddit_id','body','parent_id','name','Unnamed: 0'])"
   ]
  },
  {
   "cell_type": "code",
   "execution_count": 326,
   "metadata": {},
   "outputs": [
    {
     "data": {
      "text/html": [
       "<div>\n",
       "<style scoped>\n",
       "    .dataframe tbody tr th:only-of-type {\n",
       "        vertical-align: middle;\n",
       "    }\n",
       "\n",
       "    .dataframe tbody tr th {\n",
       "        vertical-align: top;\n",
       "    }\n",
       "\n",
       "    .dataframe thead th {\n",
       "        text-align: right;\n",
       "    }\n",
       "</style>\n",
       "<table border=\"1\" class=\"dataframe\">\n",
       "  <thead>\n",
       "    <tr style=\"text-align: right;\">\n",
       "      <th></th>\n",
       "      <th>gilded</th>\n",
       "      <th>downs</th>\n",
       "      <th>subreddit</th>\n",
       "      <th>score</th>\n",
       "      <th>ups</th>\n",
       "      <th>edited</th>\n",
       "      <th>author_flair_text</th>\n",
       "      <th>retrieved_on</th>\n",
       "      <th>controversiality</th>\n",
       "      <th>score_hidden</th>\n",
       "      <th>distinguished</th>\n",
       "      <th>archived</th>\n",
       "      <th>created_utc</th>\n",
       "      <th>removal_reason</th>\n",
       "    </tr>\n",
       "  </thead>\n",
       "  <tbody>\n",
       "    <tr>\n",
       "      <th>0</th>\n",
       "      <td>0</td>\n",
       "      <td>0</td>\n",
       "      <td>politics</td>\n",
       "      <td>1</td>\n",
       "      <td>1</td>\n",
       "      <td>0</td>\n",
       "      <td>NaN</td>\n",
       "      <td>1428217153</td>\n",
       "      <td>0</td>\n",
       "      <td>False</td>\n",
       "      <td>NaN</td>\n",
       "      <td>True</td>\n",
       "      <td>1229580037</td>\n",
       "      <td>NaN</td>\n",
       "    </tr>\n",
       "    <tr>\n",
       "      <th>1</th>\n",
       "      <td>0</td>\n",
       "      <td>0</td>\n",
       "      <td>politics</td>\n",
       "      <td>1</td>\n",
       "      <td>1</td>\n",
       "      <td>0</td>\n",
       "      <td>NaN</td>\n",
       "      <td>1428217153</td>\n",
       "      <td>0</td>\n",
       "      <td>False</td>\n",
       "      <td>NaN</td>\n",
       "      <td>True</td>\n",
       "      <td>1229580041</td>\n",
       "      <td>NaN</td>\n",
       "    </tr>\n",
       "    <tr>\n",
       "      <th>2</th>\n",
       "      <td>0</td>\n",
       "      <td>0</td>\n",
       "      <td>politics</td>\n",
       "      <td>2</td>\n",
       "      <td>2</td>\n",
       "      <td>0</td>\n",
       "      <td>NaN</td>\n",
       "      <td>1428217153</td>\n",
       "      <td>0</td>\n",
       "      <td>False</td>\n",
       "      <td>NaN</td>\n",
       "      <td>True</td>\n",
       "      <td>1229580053</td>\n",
       "      <td>NaN</td>\n",
       "    </tr>\n",
       "    <tr>\n",
       "      <th>3</th>\n",
       "      <td>0</td>\n",
       "      <td>0</td>\n",
       "      <td>WTF</td>\n",
       "      <td>1</td>\n",
       "      <td>1</td>\n",
       "      <td>0</td>\n",
       "      <td>NaN</td>\n",
       "      <td>1428217153</td>\n",
       "      <td>0</td>\n",
       "      <td>False</td>\n",
       "      <td>NaN</td>\n",
       "      <td>True</td>\n",
       "      <td>1229580067</td>\n",
       "      <td>NaN</td>\n",
       "    </tr>\n",
       "    <tr>\n",
       "      <th>4</th>\n",
       "      <td>0</td>\n",
       "      <td>0</td>\n",
       "      <td>reddit.com</td>\n",
       "      <td>1</td>\n",
       "      <td>1</td>\n",
       "      <td>0</td>\n",
       "      <td>NaN</td>\n",
       "      <td>1428217153</td>\n",
       "      <td>0</td>\n",
       "      <td>False</td>\n",
       "      <td>NaN</td>\n",
       "      <td>True</td>\n",
       "      <td>1229580072</td>\n",
       "      <td>NaN</td>\n",
       "    </tr>\n",
       "    <tr>\n",
       "      <th>...</th>\n",
       "      <td>...</td>\n",
       "      <td>...</td>\n",
       "      <td>...</td>\n",
       "      <td>...</td>\n",
       "      <td>...</td>\n",
       "      <td>...</td>\n",
       "      <td>...</td>\n",
       "      <td>...</td>\n",
       "      <td>...</td>\n",
       "      <td>...</td>\n",
       "      <td>...</td>\n",
       "      <td>...</td>\n",
       "      <td>...</td>\n",
       "      <td>...</td>\n",
       "    </tr>\n",
       "    <tr>\n",
       "      <th>850354</th>\n",
       "      <td>0</td>\n",
       "      <td>0</td>\n",
       "      <td>Music</td>\n",
       "      <td>12</td>\n",
       "      <td>12</td>\n",
       "      <td>0</td>\n",
       "      <td>NaN</td>\n",
       "      <td>1428247742</td>\n",
       "      <td>0</td>\n",
       "      <td>False</td>\n",
       "      <td>NaN</td>\n",
       "      <td>True</td>\n",
       "      <td>1229579675</td>\n",
       "      <td>NaN</td>\n",
       "    </tr>\n",
       "    <tr>\n",
       "      <th>850355</th>\n",
       "      <td>0</td>\n",
       "      <td>0</td>\n",
       "      <td>comics</td>\n",
       "      <td>0</td>\n",
       "      <td>0</td>\n",
       "      <td>0</td>\n",
       "      <td>NaN</td>\n",
       "      <td>1428247742</td>\n",
       "      <td>0</td>\n",
       "      <td>False</td>\n",
       "      <td>NaN</td>\n",
       "      <td>True</td>\n",
       "      <td>1229579679</td>\n",
       "      <td>NaN</td>\n",
       "    </tr>\n",
       "    <tr>\n",
       "      <th>850356</th>\n",
       "      <td>0</td>\n",
       "      <td>0</td>\n",
       "      <td>Economics</td>\n",
       "      <td>1</td>\n",
       "      <td>1</td>\n",
       "      <td>0</td>\n",
       "      <td>NaN</td>\n",
       "      <td>1428247742</td>\n",
       "      <td>0</td>\n",
       "      <td>False</td>\n",
       "      <td>NaN</td>\n",
       "      <td>True</td>\n",
       "      <td>1229579680</td>\n",
       "      <td>NaN</td>\n",
       "    </tr>\n",
       "    <tr>\n",
       "      <th>850357</th>\n",
       "      <td>0</td>\n",
       "      <td>0</td>\n",
       "      <td>atheism</td>\n",
       "      <td>1</td>\n",
       "      <td>1</td>\n",
       "      <td>0</td>\n",
       "      <td>NaN</td>\n",
       "      <td>1428247742</td>\n",
       "      <td>0</td>\n",
       "      <td>False</td>\n",
       "      <td>NaN</td>\n",
       "      <td>True</td>\n",
       "      <td>1229579685</td>\n",
       "      <td>NaN</td>\n",
       "    </tr>\n",
       "    <tr>\n",
       "      <th>850358</th>\n",
       "      <td>0</td>\n",
       "      <td>0</td>\n",
       "      <td>WTF</td>\n",
       "      <td>0</td>\n",
       "      <td>0</td>\n",
       "      <td>0</td>\n",
       "      <td>NaN</td>\n",
       "      <td>1428247742</td>\n",
       "      <td>0</td>\n",
       "      <td>False</td>\n",
       "      <td>NaN</td>\n",
       "      <td>True</td>\n",
       "      <td>1229579686</td>\n",
       "      <td>NaN</td>\n",
       "    </tr>\n",
       "  </tbody>\n",
       "</table>\n",
       "<p>850359 rows × 14 columns</p>\n",
       "</div>"
      ],
      "text/plain": [
       "        gilded  downs   subreddit  score  ups  edited author_flair_text  \\\n",
       "0            0      0    politics      1    1       0               NaN   \n",
       "1            0      0    politics      1    1       0               NaN   \n",
       "2            0      0    politics      2    2       0               NaN   \n",
       "3            0      0         WTF      1    1       0               NaN   \n",
       "4            0      0  reddit.com      1    1       0               NaN   \n",
       "...        ...    ...         ...    ...  ...     ...               ...   \n",
       "850354       0      0       Music     12   12       0               NaN   \n",
       "850355       0      0      comics      0    0       0               NaN   \n",
       "850356       0      0   Economics      1    1       0               NaN   \n",
       "850357       0      0     atheism      1    1       0               NaN   \n",
       "850358       0      0         WTF      0    0       0               NaN   \n",
       "\n",
       "        retrieved_on  controversiality  score_hidden distinguished  archived  \\\n",
       "0         1428217153                 0         False           NaN      True   \n",
       "1         1428217153                 0         False           NaN      True   \n",
       "2         1428217153                 0         False           NaN      True   \n",
       "3         1428217153                 0         False           NaN      True   \n",
       "4         1428217153                 0         False           NaN      True   \n",
       "...              ...               ...           ...           ...       ...   \n",
       "850354    1428247742                 0         False           NaN      True   \n",
       "850355    1428247742                 0         False           NaN      True   \n",
       "850356    1428247742                 0         False           NaN      True   \n",
       "850357    1428247742                 0         False           NaN      True   \n",
       "850358    1428247742                 0         False           NaN      True   \n",
       "\n",
       "        created_utc  removal_reason  \n",
       "0        1229580037             NaN  \n",
       "1        1229580041             NaN  \n",
       "2        1229580053             NaN  \n",
       "3        1229580067             NaN  \n",
       "4        1229580072             NaN  \n",
       "...             ...             ...  \n",
       "850354   1229579675             NaN  \n",
       "850355   1229579679             NaN  \n",
       "850356   1229579680             NaN  \n",
       "850357   1229579685             NaN  \n",
       "850358   1229579686             NaN  \n",
       "\n",
       "[850359 rows x 14 columns]"
      ]
     },
     "execution_count": 326,
     "metadata": {},
     "output_type": "execute_result"
    }
   ],
   "source": [
    "remaining"
   ]
  },
  {
   "cell_type": "markdown",
   "metadata": {},
   "source": [
    "# Preprocessing"
   ]
  },
  {
   "cell_type": "markdown",
   "metadata": {},
   "source": [
    "<b> In preprocessing, we will perform many cleaning steps. </b>\n"
   ]
  },
  {
   "cell_type": "code",
   "execution_count": 327,
   "metadata": {},
   "outputs": [
    {
     "name": "stdout",
     "output_type": "stream",
     "text": [
      "<class 'pandas.core.frame.DataFrame'>\n",
      "RangeIndex: 850359 entries, 0 to 850358\n",
      "Data columns (total 14 columns):\n",
      " #   Column             Non-Null Count   Dtype  \n",
      "---  ------             --------------   -----  \n",
      " 0   gilded             850359 non-null  int64  \n",
      " 1   downs              850359 non-null  int64  \n",
      " 2   subreddit          850359 non-null  object \n",
      " 3   score              850359 non-null  int64  \n",
      " 4   ups                850359 non-null  int64  \n",
      " 5   edited             850359 non-null  int64  \n",
      " 6   author_flair_text  3916 non-null    object \n",
      " 7   retrieved_on       850359 non-null  int64  \n",
      " 8   controversiality   850359 non-null  int64  \n",
      " 9   score_hidden       850359 non-null  bool   \n",
      " 10  distinguished      2 non-null       object \n",
      " 11  archived           850359 non-null  bool   \n",
      " 12  created_utc        850359 non-null  int64  \n",
      " 13  removal_reason     0 non-null       float64\n",
      "dtypes: bool(2), float64(1), int64(8), object(3)\n",
      "memory usage: 79.5+ MB\n"
     ]
    }
   ],
   "source": [
    "remaining.info()"
   ]
  },
  {
   "cell_type": "markdown",
   "metadata": {},
   "source": [
    "### Observations:\n",
    "1. Feature 'removal_reason' is all null. So it can be removed. <br>\n",
    "2. Feature 'distinguished' has only two non-null. So it can be removed <br>\n",
    "3. Feature 'retrieved_on' is actually a datetime column. So I will keep it on hold and check whether in its absence, my model works well or not.\n",
    "\n"
   ]
  },
  {
   "cell_type": "code",
   "execution_count": 328,
   "metadata": {},
   "outputs": [],
   "source": [
    "remaining=remaining.drop(columns=['removal_reason','distinguished','retrieved_on'])"
   ]
  },
  {
   "cell_type": "code",
   "execution_count": 329,
   "metadata": {},
   "outputs": [
    {
     "data": {
      "text/plain": [
       "0    850359\n",
       "Name: gilded, dtype: int64"
      ]
     },
     "execution_count": 329,
     "metadata": {},
     "output_type": "execute_result"
    }
   ],
   "source": [
    "remaining['gilded'].value_counts()\n"
   ]
  },
  {
   "cell_type": "markdown",
   "metadata": {},
   "source": [
    "4. Feature 'gilded' is all 0. There is no next number. So it can be removed from the column. It is of no use.<br>\n",
    "5. Feature 'downs' is all 0. There is no next number. So it can be removed from the column. It is of no use.<br>\n",
    "6. Feature 'controversiality' has only one value 1 and others 0. It is also like an outlier. So it is also of no use.<br>\n",
    "7. Feature 'score_hidden' has all values False. So it can be removed from the column. It is of no use"
   ]
  },
  {
   "cell_type": "code",
   "execution_count": 330,
   "metadata": {},
   "outputs": [],
   "source": [
    "remaining=remaining.drop(columns=['gilded','downs','controversiality','score_hidden'])"
   ]
  },
  {
   "cell_type": "code",
   "execution_count": 331,
   "metadata": {},
   "outputs": [
    {
     "data": {
      "text/html": [
       "<div>\n",
       "<style scoped>\n",
       "    .dataframe tbody tr th:only-of-type {\n",
       "        vertical-align: middle;\n",
       "    }\n",
       "\n",
       "    .dataframe tbody tr th {\n",
       "        vertical-align: top;\n",
       "    }\n",
       "\n",
       "    .dataframe thead th {\n",
       "        text-align: right;\n",
       "    }\n",
       "</style>\n",
       "<table border=\"1\" class=\"dataframe\">\n",
       "  <thead>\n",
       "    <tr style=\"text-align: right;\">\n",
       "      <th></th>\n",
       "      <th>subreddit</th>\n",
       "      <th>score</th>\n",
       "      <th>ups</th>\n",
       "      <th>edited</th>\n",
       "      <th>author_flair_text</th>\n",
       "      <th>archived</th>\n",
       "      <th>created_utc</th>\n",
       "    </tr>\n",
       "  </thead>\n",
       "  <tbody>\n",
       "    <tr>\n",
       "      <th>0</th>\n",
       "      <td>politics</td>\n",
       "      <td>1</td>\n",
       "      <td>1</td>\n",
       "      <td>0</td>\n",
       "      <td>NaN</td>\n",
       "      <td>True</td>\n",
       "      <td>1229580037</td>\n",
       "    </tr>\n",
       "    <tr>\n",
       "      <th>1</th>\n",
       "      <td>politics</td>\n",
       "      <td>1</td>\n",
       "      <td>1</td>\n",
       "      <td>0</td>\n",
       "      <td>NaN</td>\n",
       "      <td>True</td>\n",
       "      <td>1229580041</td>\n",
       "    </tr>\n",
       "    <tr>\n",
       "      <th>2</th>\n",
       "      <td>politics</td>\n",
       "      <td>2</td>\n",
       "      <td>2</td>\n",
       "      <td>0</td>\n",
       "      <td>NaN</td>\n",
       "      <td>True</td>\n",
       "      <td>1229580053</td>\n",
       "    </tr>\n",
       "    <tr>\n",
       "      <th>3</th>\n",
       "      <td>WTF</td>\n",
       "      <td>1</td>\n",
       "      <td>1</td>\n",
       "      <td>0</td>\n",
       "      <td>NaN</td>\n",
       "      <td>True</td>\n",
       "      <td>1229580067</td>\n",
       "    </tr>\n",
       "    <tr>\n",
       "      <th>4</th>\n",
       "      <td>reddit.com</td>\n",
       "      <td>1</td>\n",
       "      <td>1</td>\n",
       "      <td>0</td>\n",
       "      <td>NaN</td>\n",
       "      <td>True</td>\n",
       "      <td>1229580072</td>\n",
       "    </tr>\n",
       "    <tr>\n",
       "      <th>...</th>\n",
       "      <td>...</td>\n",
       "      <td>...</td>\n",
       "      <td>...</td>\n",
       "      <td>...</td>\n",
       "      <td>...</td>\n",
       "      <td>...</td>\n",
       "      <td>...</td>\n",
       "    </tr>\n",
       "    <tr>\n",
       "      <th>850354</th>\n",
       "      <td>Music</td>\n",
       "      <td>12</td>\n",
       "      <td>12</td>\n",
       "      <td>0</td>\n",
       "      <td>NaN</td>\n",
       "      <td>True</td>\n",
       "      <td>1229579675</td>\n",
       "    </tr>\n",
       "    <tr>\n",
       "      <th>850355</th>\n",
       "      <td>comics</td>\n",
       "      <td>0</td>\n",
       "      <td>0</td>\n",
       "      <td>0</td>\n",
       "      <td>NaN</td>\n",
       "      <td>True</td>\n",
       "      <td>1229579679</td>\n",
       "    </tr>\n",
       "    <tr>\n",
       "      <th>850356</th>\n",
       "      <td>Economics</td>\n",
       "      <td>1</td>\n",
       "      <td>1</td>\n",
       "      <td>0</td>\n",
       "      <td>NaN</td>\n",
       "      <td>True</td>\n",
       "      <td>1229579680</td>\n",
       "    </tr>\n",
       "    <tr>\n",
       "      <th>850357</th>\n",
       "      <td>atheism</td>\n",
       "      <td>1</td>\n",
       "      <td>1</td>\n",
       "      <td>0</td>\n",
       "      <td>NaN</td>\n",
       "      <td>True</td>\n",
       "      <td>1229579685</td>\n",
       "    </tr>\n",
       "    <tr>\n",
       "      <th>850358</th>\n",
       "      <td>WTF</td>\n",
       "      <td>0</td>\n",
       "      <td>0</td>\n",
       "      <td>0</td>\n",
       "      <td>NaN</td>\n",
       "      <td>True</td>\n",
       "      <td>1229579686</td>\n",
       "    </tr>\n",
       "  </tbody>\n",
       "</table>\n",
       "<p>850359 rows × 7 columns</p>\n",
       "</div>"
      ],
      "text/plain": [
       "         subreddit  score  ups  edited author_flair_text  archived  \\\n",
       "0         politics      1    1       0               NaN      True   \n",
       "1         politics      1    1       0               NaN      True   \n",
       "2         politics      2    2       0               NaN      True   \n",
       "3              WTF      1    1       0               NaN      True   \n",
       "4       reddit.com      1    1       0               NaN      True   \n",
       "...            ...    ...  ...     ...               ...       ...   \n",
       "850354       Music     12   12       0               NaN      True   \n",
       "850355      comics      0    0       0               NaN      True   \n",
       "850356   Economics      1    1       0               NaN      True   \n",
       "850357     atheism      1    1       0               NaN      True   \n",
       "850358         WTF      0    0       0               NaN      True   \n",
       "\n",
       "        created_utc  \n",
       "0        1229580037  \n",
       "1        1229580041  \n",
       "2        1229580053  \n",
       "3        1229580067  \n",
       "4        1229580072  \n",
       "...             ...  \n",
       "850354   1229579675  \n",
       "850355   1229579679  \n",
       "850356   1229579680  \n",
       "850357   1229579685  \n",
       "850358   1229579686  \n",
       "\n",
       "[850359 rows x 7 columns]"
      ]
     },
     "execution_count": 331,
     "metadata": {},
     "output_type": "execute_result"
    }
   ],
   "source": [
    "remaining"
   ]
  },
  {
   "cell_type": "code",
   "execution_count": 332,
   "metadata": {},
   "outputs": [
    {
     "data": {
      "text/plain": [
       "1229711368    6\n",
       "1229983148    6\n",
       "1230347295    6\n",
       "1228535810    6\n",
       "1228849384    6\n",
       "             ..\n",
       "1228437067    1\n",
       "1230530121    1\n",
       "1228549661    1\n",
       "1229111747    1\n",
       "1229981697    1\n",
       "Name: created_utc, Length: 714831, dtype: int64"
      ]
     },
     "execution_count": 332,
     "metadata": {},
     "output_type": "execute_result"
    }
   ],
   "source": [
    "remaining['created_utc'].value_counts()"
   ]
  },
  {
   "cell_type": "code",
   "execution_count": 333,
   "metadata": {},
   "outputs": [],
   "source": [
    "x=remaining.drop(columns='score',axis=1)\n",
    "y=remaining['score']"
   ]
  },
  {
   "cell_type": "code",
   "execution_count": 334,
   "metadata": {},
   "outputs": [
    {
     "name": "stdout",
     "output_type": "stream",
     "text": [
      "99.53948861598454\n"
     ]
    }
   ],
   "source": [
    "print(x['author_flair_text'].isna().sum()/x['author_flair_text'].shape[0]*100)"
   ]
  },
  {
   "cell_type": "markdown",
   "metadata": {},
   "source": [
    "8. It seems that 99% of the data is missing. So there is no use of this column as well. Let's remove it<br>\n",
    "9. Since created_utc is a datetime column, it doesnt hold any importance.<br>\n",
    "10. The ups column is our target's copy. I will remove it."
   ]
  },
  {
   "cell_type": "code",
   "execution_count": 335,
   "metadata": {},
   "outputs": [],
   "source": [
    "x=x.drop(columns=['author_flair_text','created_utc','ups'])"
   ]
  },
  {
   "cell_type": "code",
   "execution_count": 336,
   "metadata": {},
   "outputs": [],
   "source": [
    "x['archived']=x['archived'].astype('int')"
   ]
  },
  {
   "cell_type": "code",
   "execution_count": 337,
   "metadata": {},
   "outputs": [
    {
     "data": {
      "text/plain": [
       "\"from sklearn.preprocessing import LabelBinarizer\\nlb=LabelBinarizer()\\nx['subreddit']=lb.fit_transform(x['subreddit'])\""
      ]
     },
     "execution_count": 337,
     "metadata": {},
     "output_type": "execute_result"
    }
   ],
   "source": [
    "'''from sklearn.preprocessing import LabelBinarizer\n",
    "lb=LabelBinarizer()\n",
    "x['subreddit']=lb.fit_transform(x['subreddit'])'''"
   ]
  },
  {
   "cell_type": "code",
   "execution_count": 338,
   "metadata": {},
   "outputs": [],
   "source": [
    "from sklearn.preprocessing import LabelEncoder,OneHotEncoder\n",
    "le=LabelEncoder()\n",
    "oh=OneHotEncoder()\n"
   ]
  },
  {
   "cell_type": "code",
   "execution_count": 339,
   "metadata": {},
   "outputs": [],
   "source": [
    "q=x['subreddit']"
   ]
  },
  {
   "cell_type": "code",
   "execution_count": 340,
   "metadata": {},
   "outputs": [],
   "source": [
    "q=le.fit_transform(q)"
   ]
  },
  {
   "cell_type": "code",
   "execution_count": 341,
   "metadata": {},
   "outputs": [],
   "source": [
    "x['subreddit']=q"
   ]
  },
  {
   "cell_type": "code",
   "execution_count": 342,
   "metadata": {},
   "outputs": [
    {
     "data": {
      "text/html": [
       "<div>\n",
       "<style scoped>\n",
       "    .dataframe tbody tr th:only-of-type {\n",
       "        vertical-align: middle;\n",
       "    }\n",
       "\n",
       "    .dataframe tbody tr th {\n",
       "        vertical-align: top;\n",
       "    }\n",
       "\n",
       "    .dataframe thead th {\n",
       "        text-align: right;\n",
       "    }\n",
       "</style>\n",
       "<table border=\"1\" class=\"dataframe\">\n",
       "  <thead>\n",
       "    <tr style=\"text-align: right;\">\n",
       "      <th></th>\n",
       "      <th>subreddit</th>\n",
       "      <th>edited</th>\n",
       "      <th>archived</th>\n",
       "    </tr>\n",
       "  </thead>\n",
       "  <tbody>\n",
       "    <tr>\n",
       "      <th>0</th>\n",
       "      <td>885</td>\n",
       "      <td>0</td>\n",
       "      <td>1</td>\n",
       "    </tr>\n",
       "    <tr>\n",
       "      <th>1</th>\n",
       "      <td>885</td>\n",
       "      <td>0</td>\n",
       "      <td>1</td>\n",
       "    </tr>\n",
       "    <tr>\n",
       "      <th>2</th>\n",
       "      <td>885</td>\n",
       "      <td>0</td>\n",
       "      <td>1</td>\n",
       "    </tr>\n",
       "    <tr>\n",
       "      <th>3</th>\n",
       "      <td>415</td>\n",
       "      <td>0</td>\n",
       "      <td>1</td>\n",
       "    </tr>\n",
       "    <tr>\n",
       "      <th>4</th>\n",
       "      <td>912</td>\n",
       "      <td>0</td>\n",
       "      <td>1</td>\n",
       "    </tr>\n",
       "    <tr>\n",
       "      <th>...</th>\n",
       "      <td>...</td>\n",
       "      <td>...</td>\n",
       "      <td>...</td>\n",
       "    </tr>\n",
       "    <tr>\n",
       "      <th>850354</th>\n",
       "      <td>276</td>\n",
       "      <td>0</td>\n",
       "      <td>1</td>\n",
       "    </tr>\n",
       "    <tr>\n",
       "      <th>850355</th>\n",
       "      <td>557</td>\n",
       "      <td>0</td>\n",
       "      <td>1</td>\n",
       "    </tr>\n",
       "    <tr>\n",
       "      <th>850356</th>\n",
       "      <td>142</td>\n",
       "      <td>0</td>\n",
       "      <td>1</td>\n",
       "    </tr>\n",
       "    <tr>\n",
       "      <th>850357</th>\n",
       "      <td>477</td>\n",
       "      <td>0</td>\n",
       "      <td>1</td>\n",
       "    </tr>\n",
       "    <tr>\n",
       "      <th>850358</th>\n",
       "      <td>415</td>\n",
       "      <td>0</td>\n",
       "      <td>1</td>\n",
       "    </tr>\n",
       "  </tbody>\n",
       "</table>\n",
       "<p>850359 rows × 3 columns</p>\n",
       "</div>"
      ],
      "text/plain": [
       "        subreddit  edited  archived\n",
       "0             885       0         1\n",
       "1             885       0         1\n",
       "2             885       0         1\n",
       "3             415       0         1\n",
       "4             912       0         1\n",
       "...           ...     ...       ...\n",
       "850354        276       0         1\n",
       "850355        557       0         1\n",
       "850356        142       0         1\n",
       "850357        477       0         1\n",
       "850358        415       0         1\n",
       "\n",
       "[850359 rows x 3 columns]"
      ]
     },
     "execution_count": 342,
     "metadata": {},
     "output_type": "execute_result"
    }
   ],
   "source": [
    "x"
   ]
  },
  {
   "cell_type": "code",
   "execution_count": 343,
   "metadata": {},
   "outputs": [],
   "source": [
    "from sklearn.preprocessing import StandardScaler\n",
    "ss=StandardScaler()\n",
    "x=pd.DataFrame(data=ss.fit_transform(x),columns=list(x))"
   ]
  },
  {
   "cell_type": "code",
   "execution_count": 344,
   "metadata": {},
   "outputs": [
    {
     "data": {
      "text/html": [
       "<div>\n",
       "<style scoped>\n",
       "    .dataframe tbody tr th:only-of-type {\n",
       "        vertical-align: middle;\n",
       "    }\n",
       "\n",
       "    .dataframe tbody tr th {\n",
       "        vertical-align: top;\n",
       "    }\n",
       "\n",
       "    .dataframe thead th {\n",
       "        text-align: right;\n",
       "    }\n",
       "</style>\n",
       "<table border=\"1\" class=\"dataframe\">\n",
       "  <thead>\n",
       "    <tr style=\"text-align: right;\">\n",
       "      <th></th>\n",
       "      <th>subreddit</th>\n",
       "      <th>edited</th>\n",
       "      <th>archived</th>\n",
       "    </tr>\n",
       "  </thead>\n",
       "  <tbody>\n",
       "    <tr>\n",
       "      <th>0</th>\n",
       "      <td>0.588701</td>\n",
       "      <td>-0.028097</td>\n",
       "      <td>0.011166</td>\n",
       "    </tr>\n",
       "    <tr>\n",
       "      <th>1</th>\n",
       "      <td>0.588701</td>\n",
       "      <td>-0.028097</td>\n",
       "      <td>0.011166</td>\n",
       "    </tr>\n",
       "    <tr>\n",
       "      <th>2</th>\n",
       "      <td>0.588701</td>\n",
       "      <td>-0.028097</td>\n",
       "      <td>0.011166</td>\n",
       "    </tr>\n",
       "    <tr>\n",
       "      <th>3</th>\n",
       "      <td>-0.981827</td>\n",
       "      <td>-0.028097</td>\n",
       "      <td>0.011166</td>\n",
       "    </tr>\n",
       "    <tr>\n",
       "      <th>4</th>\n",
       "      <td>0.678923</td>\n",
       "      <td>-0.028097</td>\n",
       "      <td>0.011166</td>\n",
       "    </tr>\n",
       "    <tr>\n",
       "      <th>...</th>\n",
       "      <td>...</td>\n",
       "      <td>...</td>\n",
       "      <td>...</td>\n",
       "    </tr>\n",
       "    <tr>\n",
       "      <th>850354</th>\n",
       "      <td>-1.446303</td>\n",
       "      <td>-0.028097</td>\n",
       "      <td>0.011166</td>\n",
       "    </tr>\n",
       "    <tr>\n",
       "      <th>850355</th>\n",
       "      <td>-0.507327</td>\n",
       "      <td>-0.028097</td>\n",
       "      <td>0.011166</td>\n",
       "    </tr>\n",
       "    <tr>\n",
       "      <th>850356</th>\n",
       "      <td>-1.894070</td>\n",
       "      <td>-0.028097</td>\n",
       "      <td>0.011166</td>\n",
       "    </tr>\n",
       "    <tr>\n",
       "      <th>850357</th>\n",
       "      <td>-0.774651</td>\n",
       "      <td>-0.028097</td>\n",
       "      <td>0.011166</td>\n",
       "    </tr>\n",
       "    <tr>\n",
       "      <th>850358</th>\n",
       "      <td>-0.981827</td>\n",
       "      <td>-0.028097</td>\n",
       "      <td>0.011166</td>\n",
       "    </tr>\n",
       "  </tbody>\n",
       "</table>\n",
       "<p>850359 rows × 3 columns</p>\n",
       "</div>"
      ],
      "text/plain": [
       "        subreddit    edited  archived\n",
       "0        0.588701 -0.028097  0.011166\n",
       "1        0.588701 -0.028097  0.011166\n",
       "2        0.588701 -0.028097  0.011166\n",
       "3       -0.981827 -0.028097  0.011166\n",
       "4        0.678923 -0.028097  0.011166\n",
       "...           ...       ...       ...\n",
       "850354  -1.446303 -0.028097  0.011166\n",
       "850355  -0.507327 -0.028097  0.011166\n",
       "850356  -1.894070 -0.028097  0.011166\n",
       "850357  -0.774651 -0.028097  0.011166\n",
       "850358  -0.981827 -0.028097  0.011166\n",
       "\n",
       "[850359 rows x 3 columns]"
      ]
     },
     "execution_count": 344,
     "metadata": {},
     "output_type": "execute_result"
    }
   ],
   "source": [
    "x"
   ]
  },
  {
   "cell_type": "markdown",
   "metadata": {},
   "source": [
    "<b>The above used features are:</b><br>\n",
    "    1. subreddit= It is the category of subreddit. <br>\n",
    "    2. edited= Boolean value whether or not the comment is edited. <br>\n",
    "    3. archived= Boolean value whether or not the comment is archived."
   ]
  },
  {
   "cell_type": "markdown",
   "metadata": {},
   "source": [
    "# Modeling Part"
   ]
  },
  {
   "cell_type": "code",
   "execution_count": 345,
   "metadata": {},
   "outputs": [],
   "source": [
    "from sklearn.model_selection import train_test_split\n",
    "xtr,xte,ytr,yte=train_test_split(x,y,test_size=0.3,random_state=0)"
   ]
  },
  {
   "cell_type": "code",
   "execution_count": 346,
   "metadata": {},
   "outputs": [
    {
     "name": "stdout",
     "output_type": "stream",
     "text": [
      "(595251, 3) (595251,) (255108, 3) (255108,)\n"
     ]
    }
   ],
   "source": [
    "print(xtr.shape,ytr.shape,xte.shape,yte.shape)"
   ]
  },
  {
   "cell_type": "code",
   "execution_count": 354,
   "metadata": {},
   "outputs": [],
   "source": [
    "'''from sklearn.ensemble import RandomForestRegressor\n",
    "rfr=RandomForestRegressor()\n",
    "rfr.fit(xtr,ytr)'''\n",
    "\n",
    "import xgboost\n",
    "from xgboost import XGBRegressor\n",
    "xgbr=XGBRegressor()\n",
    "xgbr.fit(xtr,ytr)\n",
    "y_pred=xgbr.predict(xte)"
   ]
  },
  {
   "cell_type": "code",
   "execution_count": 348,
   "metadata": {},
   "outputs": [],
   "source": [
    "y_pred=rfr.predict(xte)"
   ]
  },
  {
   "cell_type": "code",
   "execution_count": 355,
   "metadata": {},
   "outputs": [
    {
     "name": "stdout",
     "output_type": "stream",
     "text": [
      "13.01310786682185\n",
      "0.005082259925094257\n"
     ]
    }
   ],
   "source": [
    "from sklearn.metrics import mean_squared_error,r2_score\n",
    "print(np.sqrt(mean_squared_error(yte,y_pred)))\n",
    "print(r2_score(yte,y_pred))"
   ]
  },
  {
   "cell_type": "code",
   "execution_count": 357,
   "metadata": {},
   "outputs": [],
   "source": [
    "comparable=pd.DataFrame()\n",
    "comparable['Actual']=yte\n",
    "comparable['Predicted']=y_pred"
   ]
  },
  {
   "cell_type": "code",
   "execution_count": 358,
   "metadata": {},
   "outputs": [
    {
     "data": {
      "text/html": [
       "<div>\n",
       "<style scoped>\n",
       "    .dataframe tbody tr th:only-of-type {\n",
       "        vertical-align: middle;\n",
       "    }\n",
       "\n",
       "    .dataframe tbody tr th {\n",
       "        vertical-align: top;\n",
       "    }\n",
       "\n",
       "    .dataframe thead th {\n",
       "        text-align: right;\n",
       "    }\n",
       "</style>\n",
       "<table border=\"1\" class=\"dataframe\">\n",
       "  <thead>\n",
       "    <tr style=\"text-align: right;\">\n",
       "      <th></th>\n",
       "      <th>Actual</th>\n",
       "      <th>Predicted</th>\n",
       "    </tr>\n",
       "  </thead>\n",
       "  <tbody>\n",
       "    <tr>\n",
       "      <th>650722</th>\n",
       "      <td>1</td>\n",
       "      <td>2.949873</td>\n",
       "    </tr>\n",
       "    <tr>\n",
       "      <th>660177</th>\n",
       "      <td>1</td>\n",
       "      <td>3.832921</td>\n",
       "    </tr>\n",
       "    <tr>\n",
       "      <th>681903</th>\n",
       "      <td>1</td>\n",
       "      <td>4.901563</td>\n",
       "    </tr>\n",
       "    <tr>\n",
       "      <th>844045</th>\n",
       "      <td>1</td>\n",
       "      <td>5.598440</td>\n",
       "    </tr>\n",
       "    <tr>\n",
       "      <th>329257</th>\n",
       "      <td>0</td>\n",
       "      <td>2.931967</td>\n",
       "    </tr>\n",
       "    <tr>\n",
       "      <th>...</th>\n",
       "      <td>...</td>\n",
       "      <td>...</td>\n",
       "    </tr>\n",
       "    <tr>\n",
       "      <th>29895</th>\n",
       "      <td>-2</td>\n",
       "      <td>4.748488</td>\n",
       "    </tr>\n",
       "    <tr>\n",
       "      <th>162569</th>\n",
       "      <td>1</td>\n",
       "      <td>5.214175</td>\n",
       "    </tr>\n",
       "    <tr>\n",
       "      <th>329747</th>\n",
       "      <td>0</td>\n",
       "      <td>4.424610</td>\n",
       "    </tr>\n",
       "    <tr>\n",
       "      <th>292944</th>\n",
       "      <td>8</td>\n",
       "      <td>2.972241</td>\n",
       "    </tr>\n",
       "    <tr>\n",
       "      <th>344350</th>\n",
       "      <td>1</td>\n",
       "      <td>5.028587</td>\n",
       "    </tr>\n",
       "  </tbody>\n",
       "</table>\n",
       "<p>255108 rows × 2 columns</p>\n",
       "</div>"
      ],
      "text/plain": [
       "        Actual  Predicted\n",
       "650722       1   2.949873\n",
       "660177       1   3.832921\n",
       "681903       1   4.901563\n",
       "844045       1   5.598440\n",
       "329257       0   2.931967\n",
       "...        ...        ...\n",
       "29895       -2   4.748488\n",
       "162569       1   5.214175\n",
       "329747       0   4.424610\n",
       "292944       8   2.972241\n",
       "344350       1   5.028587\n",
       "\n",
       "[255108 rows x 2 columns]"
      ]
     },
     "execution_count": 358,
     "metadata": {},
     "output_type": "execute_result"
    }
   ],
   "source": [
    "comparable"
   ]
  },
  {
   "cell_type": "markdown",
   "metadata": {},
   "source": [
    "## This has given me a very horrible result so far."
   ]
  },
  {
   "cell_type": "code",
   "execution_count": 360,
   "metadata": {},
   "outputs": [],
   "source": [
    "import tensorflow as tf\n",
    "from tensorflow import keras\n"
   ]
  },
  {
   "cell_type": "code",
   "execution_count": 365,
   "metadata": {},
   "outputs": [
    {
     "data": {
      "text/plain": [
       "(595251, 3)"
      ]
     },
     "execution_count": 365,
     "metadata": {},
     "output_type": "execute_result"
    }
   ],
   "source": [
    "xtr.shape"
   ]
  },
  {
   "cell_type": "code",
   "execution_count": 363,
   "metadata": {},
   "outputs": [
    {
     "data": {
      "text/plain": [
       "1785753"
      ]
     },
     "execution_count": 363,
     "metadata": {},
     "output_type": "execute_result"
    }
   ],
   "source": [
    "xtr.shape[0]*xtr.shape[1]"
   ]
  },
  {
   "cell_type": "code",
   "execution_count": 368,
   "metadata": {},
   "outputs": [],
   "source": [
    "model=keras.models.Sequential()\n",
    "model.add(keras.layers.Input(shape=(3,)))\n",
    "model.add(keras.layers.Dense(10,activation='relu'))\n",
    "model.add(keras.layers.Dense(10,activation='relu'))\n",
    "model.add(keras.layers.Dense(1))"
   ]
  },
  {
   "cell_type": "code",
   "execution_count": 369,
   "metadata": {},
   "outputs": [
    {
     "name": "stdout",
     "output_type": "stream",
     "text": [
      "Model: \"sequential_3\"\n",
      "_________________________________________________________________\n",
      "Layer (type)                 Output Shape              Param #   \n",
      "=================================================================\n",
      "dense (Dense)                (None, 10)                40        \n",
      "_________________________________________________________________\n",
      "dense_1 (Dense)              (None, 10)                110       \n",
      "_________________________________________________________________\n",
      "dense_2 (Dense)              (None, 1)                 11        \n",
      "=================================================================\n",
      "Total params: 161\n",
      "Trainable params: 161\n",
      "Non-trainable params: 0\n",
      "_________________________________________________________________\n"
     ]
    }
   ],
   "source": [
    "model.summary()"
   ]
  },
  {
   "cell_type": "code",
   "execution_count": 387,
   "metadata": {},
   "outputs": [],
   "source": [
    "model.compile(loss='mean_squared_error',optimizer='adam',metrics='accuracy')"
   ]
  },
  {
   "cell_type": "code",
   "execution_count": 388,
   "metadata": {},
   "outputs": [
    {
     "name": "stdout",
     "output_type": "stream",
     "text": [
      "Epoch 1/10\n",
      "13022/13022 [==============================] - 23s 2ms/step - loss: 158.6613 - accuracy: 0.4174 - val_loss: 153.3440 - val_accuracy: 0.4177\n",
      "Epoch 2/10\n",
      "13022/13022 [==============================] - 21s 2ms/step - loss: 169.5123 - accuracy: 0.4178 - val_loss: 153.3114 - val_accuracy: 0.4177\n",
      "Epoch 3/10\n",
      "13022/13022 [==============================] - 20s 2ms/step - loss: 163.2281 - accuracy: 0.4178 - val_loss: 153.2940 - val_accuracy: 0.4177\n",
      "Epoch 4/10\n",
      "13022/13022 [==============================] - 23s 2ms/step - loss: 174.0953 - accuracy: 0.4179 - val_loss: 153.3002 - val_accuracy: 0.4177\n",
      "Epoch 5/10\n",
      "13022/13022 [==============================] - 22s 2ms/step - loss: 197.3745 - accuracy: 0.4170 - val_loss: 153.3100 - val_accuracy: 0.4177\n",
      "Epoch 6/10\n",
      "13022/13022 [==============================] - 22s 2ms/step - loss: 161.0111 - accuracy: 0.4172 - val_loss: 153.3069 - val_accuracy: 0.4177\n",
      "Epoch 7/10\n",
      "13022/13022 [==============================] - 23s 2ms/step - loss: 179.4840 - accuracy: 0.4176 - val_loss: 153.3278 - val_accuracy: 0.4177\n",
      "Epoch 8/10\n",
      "13022/13022 [==============================] - 23s 2ms/step - loss: 172.4678 - accuracy: 0.4193 - val_loss: 153.3011 - val_accuracy: 0.4177\n",
      "Epoch 9/10\n",
      "13022/13022 [==============================] - 23s 2ms/step - loss: 179.7921 - accuracy: 0.4185 - val_loss: 153.3083 - val_accuracy: 0.4177\n",
      "Epoch 10/10\n",
      "13022/13022 [==============================] - 22s 2ms/step - loss: 179.7450 - accuracy: 0.4186 - val_loss: 153.3058 - val_accuracy: 0.4177\n"
     ]
    }
   ],
   "source": [
    "hist=model.fit(xtr,ytr,batch_size=32,epochs=10,validation_split=0.3)"
   ]
  },
  {
   "cell_type": "code",
   "execution_count": 389,
   "metadata": {},
   "outputs": [
    {
     "data": {
      "text/plain": [
       "[<matplotlib.lines.Line2D at 0x2960c7d5640>,\n",
       " <matplotlib.lines.Line2D at 0x2960c7d5700>,\n",
       " <matplotlib.lines.Line2D at 0x2960c7d57c0>,\n",
       " <matplotlib.lines.Line2D at 0x2960c7d5880>]"
      ]
     },
     "execution_count": 389,
     "metadata": {},
     "output_type": "execute_result"
    },
    {
     "data": {
      "image/png": "[encoded data removed]",
      "text/plain": [
       "<Figure size 432x288 with 1 Axes>"
      ]
     },
     "metadata": {
      "needs_background": "light"
     },
     "output_type": "display_data"
    }
   ],
   "source": [
    "plt.plot(pd.DataFrame(hist.history))"
   ]
  },
  {
   "cell_type": "code",
   "execution_count": 373,
   "metadata": {},
   "outputs": [
    {
     "name": "stdout",
     "output_type": "stream",
     "text": [
      "RMSE I got is  12.36931687685298\n"
     ]
    }
   ],
   "source": [
    "print('RMSE I got is ',np.sqrt(153))"
   ]
  },
  {
   "cell_type": "code",
   "execution_count": 374,
   "metadata": {},
   "outputs": [],
   "source": [
    "y_pred=model.predict(xte)"
   ]
  },
  {
   "cell_type": "code",
   "execution_count": 376,
   "metadata": {},
   "outputs": [],
   "source": [
    "com=pd.DataFrame()\n",
    "com['Actual']=yte\n",
    "com['Predicted']=y_pred"
   ]
  },
  {
   "cell_type": "code",
   "execution_count": 377,
   "metadata": {},
   "outputs": [
    {
     "data": {
      "text/html": [
       "<div>\n",
       "<style scoped>\n",
       "    .dataframe tbody tr th:only-of-type {\n",
       "        vertical-align: middle;\n",
       "    }\n",
       "\n",
       "    .dataframe tbody tr th {\n",
       "        vertical-align: top;\n",
       "    }\n",
       "\n",
       "    .dataframe thead th {\n",
       "        text-align: right;\n",
       "    }\n",
       "</style>\n",
       "<table border=\"1\" class=\"dataframe\">\n",
       "  <thead>\n",
       "    <tr style=\"text-align: right;\">\n",
       "      <th></th>\n",
       "      <th>Actual</th>\n",
       "      <th>Predicted</th>\n",
       "    </tr>\n",
       "  </thead>\n",
       "  <tbody>\n",
       "    <tr>\n",
       "      <th>650722</th>\n",
       "      <td>1</td>\n",
       "      <td>3.244673</td>\n",
       "    </tr>\n",
       "    <tr>\n",
       "      <th>660177</th>\n",
       "      <td>1</td>\n",
       "      <td>3.074979</td>\n",
       "    </tr>\n",
       "    <tr>\n",
       "      <th>681903</th>\n",
       "      <td>1</td>\n",
       "      <td>3.332602</td>\n",
       "    </tr>\n",
       "    <tr>\n",
       "      <th>844045</th>\n",
       "      <td>1</td>\n",
       "      <td>3.636803</td>\n",
       "    </tr>\n",
       "    <tr>\n",
       "      <th>329257</th>\n",
       "      <td>0</td>\n",
       "      <td>3.314207</td>\n",
       "    </tr>\n",
       "    <tr>\n",
       "      <th>...</th>\n",
       "      <td>...</td>\n",
       "      <td>...</td>\n",
       "    </tr>\n",
       "    <tr>\n",
       "      <th>29895</th>\n",
       "      <td>-2</td>\n",
       "      <td>3.074979</td>\n",
       "    </tr>\n",
       "    <tr>\n",
       "      <th>162569</th>\n",
       "      <td>1</td>\n",
       "      <td>3.805642</td>\n",
       "    </tr>\n",
       "    <tr>\n",
       "      <th>329747</th>\n",
       "      <td>0</td>\n",
       "      <td>3.636803</td>\n",
       "    </tr>\n",
       "    <tr>\n",
       "      <th>292944</th>\n",
       "      <td>8</td>\n",
       "      <td>3.473413</td>\n",
       "    </tr>\n",
       "    <tr>\n",
       "      <th>344350</th>\n",
       "      <td>1</td>\n",
       "      <td>3.496701</td>\n",
       "    </tr>\n",
       "  </tbody>\n",
       "</table>\n",
       "<p>255108 rows × 2 columns</p>\n",
       "</div>"
      ],
      "text/plain": [
       "        Actual  Predicted\n",
       "650722       1   3.244673\n",
       "660177       1   3.074979\n",
       "681903       1   3.332602\n",
       "844045       1   3.636803\n",
       "329257       0   3.314207\n",
       "...        ...        ...\n",
       "29895       -2   3.074979\n",
       "162569       1   3.805642\n",
       "329747       0   3.636803\n",
       "292944       8   3.473413\n",
       "344350       1   3.496701\n",
       "\n",
       "[255108 rows x 2 columns]"
      ]
     },
     "execution_count": 377,
     "metadata": {},
     "output_type": "execute_result"
    }
   ],
   "source": [
    "com"
   ]
  },
  {
   "cell_type": "code",
   "execution_count": 384,
   "metadata": {},
   "outputs": [
    {
     "name": "stdout",
     "output_type": "stream",
     "text": [
      "r2 score is  -2.8911692215638496e-05\n"
     ]
    }
   ],
   "source": [
    "from sklearn.metrics import r2_score\n",
    "print('r2 score is ',r2_score(yte,y_pred))"
   ]
  }
 ],
 "metadata": {
  "kernelspec": {
   "display_name": "Python 3",
   "language": "python",
   "name": "python3"
  },
  "language_info": {
   "codemirror_mode": {
    "name": "ipython",
    "version": 3
   },
   "file_extension": ".py",
   "mimetype": "text/x-python",
   "name": "python",
   "nbconvert_exporter": "python",
   "pygments_lexer": "ipython3",
   "version": "3.8.5"
  }
 },
 "nbformat": 4,
 "nbformat_minor": 4
}
