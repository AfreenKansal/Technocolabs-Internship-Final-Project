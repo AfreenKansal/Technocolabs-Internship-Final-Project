{
 "cells": [
  {
   "cell_type": "code",
   "execution_count": 1,
   "metadata": {},
   "outputs": [],
   "source": [
    "#data=pd.read_json('jsonfile',lines=True)"
   ]
  },
  {
   "cell_type": "code",
   "execution_count": 2,
   "metadata": {},
   "outputs": [],
   "source": [
    "#data.to_csv('data.csv')"
   ]
  },
  {
   "cell_type": "markdown",
   "metadata": {},
   "source": [
    "# Above codes are for creating csv from json"
   ]
  },
  {
   "cell_type": "code",
   "execution_count": 1,
   "metadata": {},
   "outputs": [],
   "source": [
    "import pandas as pd\n",
    "import numpy as np\n",
    "import re\n",
    "import matplotlib.pyplot as plt\n",
    "import seaborn as sns\n",
    "import nltk\n",
    "from nltk.corpus import stopwords\n",
    "from nltk.stem import WordNetLemmatizer"
   ]
  },
  {
   "cell_type": "code",
   "execution_count": 2,
   "metadata": {},
   "outputs": [
    {
     "name": "stderr",
     "output_type": "stream",
     "text": [
      "C:\\Users\\Dell\\anaconda3\\lib\\site-packages\\IPython\\core\\interactiveshell.py:3146: DtypeWarning: Columns (19) have mixed types.Specify dtype option on import or set low_memory=False.\n",
      "  has_raised = await self.run_ast_nodes(code_ast.body, cell_name,\n"
     ]
    }
   ],
   "source": [
    "data=pd.read_csv('data.csv')"
   ]
  },
  {
   "cell_type": "markdown",
   "metadata": {},
   "source": [
    "## Preprocessing"
   ]
  },
  {
   "cell_type": "code",
   "execution_count": 3,
   "metadata": {},
   "outputs": [],
   "source": [
    "ask_data=data[data['subreddit']=='AskReddit']\n",
    "#Taking only those data which are from Subreddit AskReddit"
   ]
  },
  {
   "cell_type": "code",
   "execution_count": 4,
   "metadata": {},
   "outputs": [
    {
     "data": {
      "text/html": [
       "<div>\n",
       "<style scoped>\n",
       "    .dataframe tbody tr th:only-of-type {\n",
       "        vertical-align: middle;\n",
       "    }\n",
       "\n",
       "    .dataframe tbody tr th {\n",
       "        vertical-align: top;\n",
       "    }\n",
       "\n",
       "    .dataframe thead th {\n",
       "        text-align: right;\n",
       "    }\n",
       "</style>\n",
       "<table border=\"1\" class=\"dataframe\">\n",
       "  <thead>\n",
       "    <tr style=\"text-align: right;\">\n",
       "      <th></th>\n",
       "      <th>Unnamed: 0</th>\n",
       "      <th>gilded</th>\n",
       "      <th>author_flair_css_class</th>\n",
       "      <th>id</th>\n",
       "      <th>link_id</th>\n",
       "      <th>downs</th>\n",
       "      <th>subreddit</th>\n",
       "      <th>author</th>\n",
       "      <th>score</th>\n",
       "      <th>subreddit_id</th>\n",
       "      <th>...</th>\n",
       "      <th>body</th>\n",
       "      <th>retrieved_on</th>\n",
       "      <th>parent_id</th>\n",
       "      <th>controversiality</th>\n",
       "      <th>name</th>\n",
       "      <th>score_hidden</th>\n",
       "      <th>distinguished</th>\n",
       "      <th>archived</th>\n",
       "      <th>created_utc</th>\n",
       "      <th>removal_reason</th>\n",
       "    </tr>\n",
       "  </thead>\n",
       "  <tbody>\n",
       "    <tr>\n",
       "      <th>14</th>\n",
       "      <td>14</td>\n",
       "      <td>0</td>\n",
       "      <td>NaN</td>\n",
       "      <td>h</td>\n",
       "      <td>t3_7k903</td>\n",
       "      <td>0</td>\n",
       "      <td>AskReddit</td>\n",
       "      <td>[deleted]</td>\n",
       "      <td>1</td>\n",
       "      <td>t5_2qh1i</td>\n",
       "      <td>...</td>\n",
       "      <td>[deleted]</td>\n",
       "      <td>1428217153</td>\n",
       "      <td>t3_7k903</td>\n",
       "      <td>0</td>\n",
       "      <td>t1_h</td>\n",
       "      <td>False</td>\n",
       "      <td>NaN</td>\n",
       "      <td>True</td>\n",
       "      <td>1229580130</td>\n",
       "      <td>NaN</td>\n",
       "    </tr>\n",
       "    <tr>\n",
       "      <th>21</th>\n",
       "      <td>21</td>\n",
       "      <td>0</td>\n",
       "      <td>NaN</td>\n",
       "      <td>o</td>\n",
       "      <td>t3_7k903</td>\n",
       "      <td>0</td>\n",
       "      <td>AskReddit</td>\n",
       "      <td>ermine</td>\n",
       "      <td>1</td>\n",
       "      <td>t5_2qh1i</td>\n",
       "      <td>...</td>\n",
       "      <td>Ok. Here's what you do. Get some speaker wire ...</td>\n",
       "      <td>1428217153</td>\n",
       "      <td>t3_7k903</td>\n",
       "      <td>0</td>\n",
       "      <td>t1_o</td>\n",
       "      <td>False</td>\n",
       "      <td>NaN</td>\n",
       "      <td>True</td>\n",
       "      <td>1229580158</td>\n",
       "      <td>NaN</td>\n",
       "    </tr>\n",
       "    <tr>\n",
       "      <th>26</th>\n",
       "      <td>26</td>\n",
       "      <td>0</td>\n",
       "      <td>NaN</td>\n",
       "      <td>t</td>\n",
       "      <td>t3_7k377</td>\n",
       "      <td>0</td>\n",
       "      <td>AskReddit</td>\n",
       "      <td>movzx</td>\n",
       "      <td>3</td>\n",
       "      <td>t5_2qh1i</td>\n",
       "      <td>...</td>\n",
       "      <td>lol yeah you're right! so hilarious!</td>\n",
       "      <td>1428217153</td>\n",
       "      <td>t1_c06vnj0</td>\n",
       "      <td>0</td>\n",
       "      <td>t1_t</td>\n",
       "      <td>False</td>\n",
       "      <td>NaN</td>\n",
       "      <td>True</td>\n",
       "      <td>1229580220</td>\n",
       "      <td>NaN</td>\n",
       "    </tr>\n",
       "    <tr>\n",
       "      <th>50</th>\n",
       "      <td>50</td>\n",
       "      <td>0</td>\n",
       "      <td>NaN</td>\n",
       "      <td>1h</td>\n",
       "      <td>t3_7k8xe</td>\n",
       "      <td>0</td>\n",
       "      <td>AskReddit</td>\n",
       "      <td>robrobrobot</td>\n",
       "      <td>5</td>\n",
       "      <td>t5_2qh1i</td>\n",
       "      <td>...</td>\n",
       "      <td>Yeah, I've contemplated that quite a bit as we...</td>\n",
       "      <td>1428217153</td>\n",
       "      <td>t1_c06vwnq</td>\n",
       "      <td>0</td>\n",
       "      <td>t1_1h</td>\n",
       "      <td>False</td>\n",
       "      <td>NaN</td>\n",
       "      <td>True</td>\n",
       "      <td>1229580347</td>\n",
       "      <td>NaN</td>\n",
       "    </tr>\n",
       "    <tr>\n",
       "      <th>67</th>\n",
       "      <td>67</td>\n",
       "      <td>0</td>\n",
       "      <td>NaN</td>\n",
       "      <td>1y</td>\n",
       "      <td>t3_7k8xe</td>\n",
       "      <td>0</td>\n",
       "      <td>AskReddit</td>\n",
       "      <td>[deleted]</td>\n",
       "      <td>1</td>\n",
       "      <td>t5_2qh1i</td>\n",
       "      <td>...</td>\n",
       "      <td>[deleted]</td>\n",
       "      <td>1428217153</td>\n",
       "      <td>t1_c06vvz8</td>\n",
       "      <td>0</td>\n",
       "      <td>t1_1y</td>\n",
       "      <td>False</td>\n",
       "      <td>NaN</td>\n",
       "      <td>True</td>\n",
       "      <td>1229580397</td>\n",
       "      <td>NaN</td>\n",
       "    </tr>\n",
       "    <tr>\n",
       "      <th>74</th>\n",
       "      <td>74</td>\n",
       "      <td>0</td>\n",
       "      <td>NaN</td>\n",
       "      <td>25</td>\n",
       "      <td>t3_7k92p</td>\n",
       "      <td>0</td>\n",
       "      <td>AskReddit</td>\n",
       "      <td>[deleted]</td>\n",
       "      <td>1</td>\n",
       "      <td>t5_2qh1i</td>\n",
       "      <td>...</td>\n",
       "      <td>Let us plan this one :).......</td>\n",
       "      <td>1428217153</td>\n",
       "      <td>t1_c06vwn9</td>\n",
       "      <td>0</td>\n",
       "      <td>t1_25</td>\n",
       "      <td>False</td>\n",
       "      <td>NaN</td>\n",
       "      <td>True</td>\n",
       "      <td>1229580422</td>\n",
       "      <td>NaN</td>\n",
       "    </tr>\n",
       "    <tr>\n",
       "      <th>86</th>\n",
       "      <td>86</td>\n",
       "      <td>0</td>\n",
       "      <td>NaN</td>\n",
       "      <td>2h</td>\n",
       "      <td>t3_7jhu5</td>\n",
       "      <td>0</td>\n",
       "      <td>AskReddit</td>\n",
       "      <td>[deleted]</td>\n",
       "      <td>1</td>\n",
       "      <td>t5_2qh1i</td>\n",
       "      <td>...</td>\n",
       "      <td>[deleted]</td>\n",
       "      <td>1428217153</td>\n",
       "      <td>t3_7jhu5</td>\n",
       "      <td>0</td>\n",
       "      <td>t1_2h</td>\n",
       "      <td>False</td>\n",
       "      <td>NaN</td>\n",
       "      <td>True</td>\n",
       "      <td>1229580451</td>\n",
       "      <td>NaN</td>\n",
       "    </tr>\n",
       "    <tr>\n",
       "      <th>104</th>\n",
       "      <td>104</td>\n",
       "      <td>0</td>\n",
       "      <td>NaN</td>\n",
       "      <td>2z</td>\n",
       "      <td>t3_7k90i</td>\n",
       "      <td>0</td>\n",
       "      <td>AskReddit</td>\n",
       "      <td>[deleted]</td>\n",
       "      <td>-1</td>\n",
       "      <td>t5_2qh1i</td>\n",
       "      <td>...</td>\n",
       "      <td>[deleted]</td>\n",
       "      <td>1428217154</td>\n",
       "      <td>t3_7k90i</td>\n",
       "      <td>0</td>\n",
       "      <td>t1_2z</td>\n",
       "      <td>False</td>\n",
       "      <td>NaN</td>\n",
       "      <td>True</td>\n",
       "      <td>1229580522</td>\n",
       "      <td>NaN</td>\n",
       "    </tr>\n",
       "    <tr>\n",
       "      <th>107</th>\n",
       "      <td>107</td>\n",
       "      <td>0</td>\n",
       "      <td>NaN</td>\n",
       "      <td>32</td>\n",
       "      <td>t3_7k7ff</td>\n",
       "      <td>0</td>\n",
       "      <td>AskReddit</td>\n",
       "      <td>kenlubin</td>\n",
       "      <td>1</td>\n",
       "      <td>t5_2qh1i</td>\n",
       "      <td>...</td>\n",
       "      <td>which?</td>\n",
       "      <td>1428217154</td>\n",
       "      <td>t3_7k7ff</td>\n",
       "      <td>0</td>\n",
       "      <td>t1_32</td>\n",
       "      <td>False</td>\n",
       "      <td>NaN</td>\n",
       "      <td>True</td>\n",
       "      <td>1229580531</td>\n",
       "      <td>NaN</td>\n",
       "    </tr>\n",
       "    <tr>\n",
       "      <th>127</th>\n",
       "      <td>127</td>\n",
       "      <td>0</td>\n",
       "      <td>NaN</td>\n",
       "      <td>3m</td>\n",
       "      <td>t3_7k7vs</td>\n",
       "      <td>0</td>\n",
       "      <td>AskReddit</td>\n",
       "      <td>krispykrackers</td>\n",
       "      <td>4</td>\n",
       "      <td>t5_2qh1i</td>\n",
       "      <td>...</td>\n",
       "      <td>♥qghy2♥\\n\\n\\nHe's had a lot of reddit love tod...</td>\n",
       "      <td>1428217154</td>\n",
       "      <td>t3_7k7vs</td>\n",
       "      <td>0</td>\n",
       "      <td>t1_3m</td>\n",
       "      <td>False</td>\n",
       "      <td>NaN</td>\n",
       "      <td>True</td>\n",
       "      <td>1229580640</td>\n",
       "      <td>NaN</td>\n",
       "    </tr>\n",
       "  </tbody>\n",
       "</table>\n",
       "<p>10 rows × 23 columns</p>\n",
       "</div>"
      ],
      "text/plain": [
       "     Unnamed: 0  gilded author_flair_css_class  id   link_id  downs  \\\n",
       "14           14       0                    NaN   h  t3_7k903      0   \n",
       "21           21       0                    NaN   o  t3_7k903      0   \n",
       "26           26       0                    NaN   t  t3_7k377      0   \n",
       "50           50       0                    NaN  1h  t3_7k8xe      0   \n",
       "67           67       0                    NaN  1y  t3_7k8xe      0   \n",
       "74           74       0                    NaN  25  t3_7k92p      0   \n",
       "86           86       0                    NaN  2h  t3_7jhu5      0   \n",
       "104         104       0                    NaN  2z  t3_7k90i      0   \n",
       "107         107       0                    NaN  32  t3_7k7ff      0   \n",
       "127         127       0                    NaN  3m  t3_7k7vs      0   \n",
       "\n",
       "     subreddit          author  score subreddit_id  ...  \\\n",
       "14   AskReddit       [deleted]      1     t5_2qh1i  ...   \n",
       "21   AskReddit          ermine      1     t5_2qh1i  ...   \n",
       "26   AskReddit           movzx      3     t5_2qh1i  ...   \n",
       "50   AskReddit     robrobrobot      5     t5_2qh1i  ...   \n",
       "67   AskReddit       [deleted]      1     t5_2qh1i  ...   \n",
       "74   AskReddit       [deleted]      1     t5_2qh1i  ...   \n",
       "86   AskReddit       [deleted]      1     t5_2qh1i  ...   \n",
       "104  AskReddit       [deleted]     -1     t5_2qh1i  ...   \n",
       "107  AskReddit        kenlubin      1     t5_2qh1i  ...   \n",
       "127  AskReddit  krispykrackers      4     t5_2qh1i  ...   \n",
       "\n",
       "                                                  body  retrieved_on  \\\n",
       "14                                           [deleted]    1428217153   \n",
       "21   Ok. Here's what you do. Get some speaker wire ...    1428217153   \n",
       "26                lol yeah you're right! so hilarious!    1428217153   \n",
       "50   Yeah, I've contemplated that quite a bit as we...    1428217153   \n",
       "67                                           [deleted]    1428217153   \n",
       "74                      Let us plan this one :).......    1428217153   \n",
       "86                                           [deleted]    1428217153   \n",
       "104                                          [deleted]    1428217154   \n",
       "107                                             which?    1428217154   \n",
       "127  ♥qghy2♥\\n\\n\\nHe's had a lot of reddit love tod...    1428217154   \n",
       "\n",
       "      parent_id controversiality   name score_hidden  distinguished archived  \\\n",
       "14     t3_7k903                0   t1_h        False            NaN     True   \n",
       "21     t3_7k903                0   t1_o        False            NaN     True   \n",
       "26   t1_c06vnj0                0   t1_t        False            NaN     True   \n",
       "50   t1_c06vwnq                0  t1_1h        False            NaN     True   \n",
       "67   t1_c06vvz8                0  t1_1y        False            NaN     True   \n",
       "74   t1_c06vwn9                0  t1_25        False            NaN     True   \n",
       "86     t3_7jhu5                0  t1_2h        False            NaN     True   \n",
       "104    t3_7k90i                0  t1_2z        False            NaN     True   \n",
       "107    t3_7k7ff                0  t1_32        False            NaN     True   \n",
       "127    t3_7k7vs                0  t1_3m        False            NaN     True   \n",
       "\n",
       "     created_utc removal_reason  \n",
       "14    1229580130            NaN  \n",
       "21    1229580158            NaN  \n",
       "26    1229580220            NaN  \n",
       "50    1229580347            NaN  \n",
       "67    1229580397            NaN  \n",
       "74    1229580422            NaN  \n",
       "86    1229580451            NaN  \n",
       "104   1229580522            NaN  \n",
       "107   1229580531            NaN  \n",
       "127   1229580640            NaN  \n",
       "\n",
       "[10 rows x 23 columns]"
      ]
     },
     "execution_count": 4,
     "metadata": {},
     "output_type": "execute_result"
    }
   ],
   "source": [
    "ask_data.head(10)"
   ]
  },
  {
   "cell_type": "code",
   "execution_count": 5,
   "metadata": {},
   "outputs": [
    {
     "data": {
      "text/plain": [
       "(62211, 23)"
      ]
     },
     "execution_count": 5,
     "metadata": {},
     "output_type": "execute_result"
    }
   ],
   "source": [
    "ask_data.shape"
   ]
  },
  {
   "cell_type": "code",
   "execution_count": 6,
   "metadata": {},
   "outputs": [],
   "source": [
    "#Removing the contents which\n",
    "ask_data=ask_data[ask_data['body']!='[deleted]']"
   ]
  },
  {
   "cell_type": "code",
   "execution_count": 7,
   "metadata": {},
   "outputs": [
    {
     "data": {
      "text/plain": [
       "21        Ok. Here's what you do. Get some speaker wire ...\n",
       "26                     lol yeah you're right! so hilarious!\n",
       "50        Yeah, I've contemplated that quite a bit as we...\n",
       "74                           Let us plan this one :).......\n",
       "107                                                  which?\n",
       "                                ...                        \n",
       "850276    find a rewarding hobby...other than your invet...\n",
       "850305      I'm already depressed, that just made it worse.\n",
       "850334                                       `*`applause`*`\n",
       "850341    You just made me spit take my double ritalin e...\n",
       "850350    Get her drunk. Have sex with her. Father the c...\n",
       "Name: body, Length: 55006, dtype: object"
      ]
     },
     "execution_count": 7,
     "metadata": {},
     "output_type": "execute_result"
    }
   ],
   "source": [
    "ask_data['body']"
   ]
  },
  {
   "cell_type": "markdown",
   "metadata": {},
   "source": [
    "# Preprocessing"
   ]
  },
  {
   "cell_type": "code",
   "execution_count": 8,
   "metadata": {},
   "outputs": [
    {
     "data": {
      "text/html": [
       "<div>\n",
       "<style scoped>\n",
       "    .dataframe tbody tr th:only-of-type {\n",
       "        vertical-align: middle;\n",
       "    }\n",
       "\n",
       "    .dataframe tbody tr th {\n",
       "        vertical-align: top;\n",
       "    }\n",
       "\n",
       "    .dataframe thead th {\n",
       "        text-align: right;\n",
       "    }\n",
       "</style>\n",
       "<table border=\"1\" class=\"dataframe\">\n",
       "  <thead>\n",
       "    <tr style=\"text-align: right;\">\n",
       "      <th></th>\n",
       "      <th>Unnamed: 0</th>\n",
       "      <th>gilded</th>\n",
       "      <th>author_flair_css_class</th>\n",
       "      <th>id</th>\n",
       "      <th>link_id</th>\n",
       "      <th>downs</th>\n",
       "      <th>subreddit</th>\n",
       "      <th>author</th>\n",
       "      <th>score</th>\n",
       "      <th>subreddit_id</th>\n",
       "      <th>...</th>\n",
       "      <th>body</th>\n",
       "      <th>retrieved_on</th>\n",
       "      <th>parent_id</th>\n",
       "      <th>controversiality</th>\n",
       "      <th>name</th>\n",
       "      <th>score_hidden</th>\n",
       "      <th>distinguished</th>\n",
       "      <th>archived</th>\n",
       "      <th>created_utc</th>\n",
       "      <th>removal_reason</th>\n",
       "    </tr>\n",
       "  </thead>\n",
       "  <tbody>\n",
       "    <tr>\n",
       "      <th>21</th>\n",
       "      <td>21</td>\n",
       "      <td>0</td>\n",
       "      <td>NaN</td>\n",
       "      <td>o</td>\n",
       "      <td>t3_7k903</td>\n",
       "      <td>0</td>\n",
       "      <td>AskReddit</td>\n",
       "      <td>ermine</td>\n",
       "      <td>1</td>\n",
       "      <td>t5_2qh1i</td>\n",
       "      <td>...</td>\n",
       "      <td>Ok. Here's what you do. Get some speaker wire ...</td>\n",
       "      <td>1428217153</td>\n",
       "      <td>t3_7k903</td>\n",
       "      <td>0</td>\n",
       "      <td>t1_o</td>\n",
       "      <td>False</td>\n",
       "      <td>NaN</td>\n",
       "      <td>True</td>\n",
       "      <td>1229580158</td>\n",
       "      <td>NaN</td>\n",
       "    </tr>\n",
       "    <tr>\n",
       "      <th>26</th>\n",
       "      <td>26</td>\n",
       "      <td>0</td>\n",
       "      <td>NaN</td>\n",
       "      <td>t</td>\n",
       "      <td>t3_7k377</td>\n",
       "      <td>0</td>\n",
       "      <td>AskReddit</td>\n",
       "      <td>movzx</td>\n",
       "      <td>3</td>\n",
       "      <td>t5_2qh1i</td>\n",
       "      <td>...</td>\n",
       "      <td>lol yeah you're right! so hilarious!</td>\n",
       "      <td>1428217153</td>\n",
       "      <td>t1_c06vnj0</td>\n",
       "      <td>0</td>\n",
       "      <td>t1_t</td>\n",
       "      <td>False</td>\n",
       "      <td>NaN</td>\n",
       "      <td>True</td>\n",
       "      <td>1229580220</td>\n",
       "      <td>NaN</td>\n",
       "    </tr>\n",
       "    <tr>\n",
       "      <th>50</th>\n",
       "      <td>50</td>\n",
       "      <td>0</td>\n",
       "      <td>NaN</td>\n",
       "      <td>1h</td>\n",
       "      <td>t3_7k8xe</td>\n",
       "      <td>0</td>\n",
       "      <td>AskReddit</td>\n",
       "      <td>robrobrobot</td>\n",
       "      <td>5</td>\n",
       "      <td>t5_2qh1i</td>\n",
       "      <td>...</td>\n",
       "      <td>Yeah, I've contemplated that quite a bit as we...</td>\n",
       "      <td>1428217153</td>\n",
       "      <td>t1_c06vwnq</td>\n",
       "      <td>0</td>\n",
       "      <td>t1_1h</td>\n",
       "      <td>False</td>\n",
       "      <td>NaN</td>\n",
       "      <td>True</td>\n",
       "      <td>1229580347</td>\n",
       "      <td>NaN</td>\n",
       "    </tr>\n",
       "    <tr>\n",
       "      <th>74</th>\n",
       "      <td>74</td>\n",
       "      <td>0</td>\n",
       "      <td>NaN</td>\n",
       "      <td>25</td>\n",
       "      <td>t3_7k92p</td>\n",
       "      <td>0</td>\n",
       "      <td>AskReddit</td>\n",
       "      <td>[deleted]</td>\n",
       "      <td>1</td>\n",
       "      <td>t5_2qh1i</td>\n",
       "      <td>...</td>\n",
       "      <td>Let us plan this one :).......</td>\n",
       "      <td>1428217153</td>\n",
       "      <td>t1_c06vwn9</td>\n",
       "      <td>0</td>\n",
       "      <td>t1_25</td>\n",
       "      <td>False</td>\n",
       "      <td>NaN</td>\n",
       "      <td>True</td>\n",
       "      <td>1229580422</td>\n",
       "      <td>NaN</td>\n",
       "    </tr>\n",
       "    <tr>\n",
       "      <th>107</th>\n",
       "      <td>107</td>\n",
       "      <td>0</td>\n",
       "      <td>NaN</td>\n",
       "      <td>32</td>\n",
       "      <td>t3_7k7ff</td>\n",
       "      <td>0</td>\n",
       "      <td>AskReddit</td>\n",
       "      <td>kenlubin</td>\n",
       "      <td>1</td>\n",
       "      <td>t5_2qh1i</td>\n",
       "      <td>...</td>\n",
       "      <td>which?</td>\n",
       "      <td>1428217154</td>\n",
       "      <td>t3_7k7ff</td>\n",
       "      <td>0</td>\n",
       "      <td>t1_32</td>\n",
       "      <td>False</td>\n",
       "      <td>NaN</td>\n",
       "      <td>True</td>\n",
       "      <td>1229580531</td>\n",
       "      <td>NaN</td>\n",
       "    </tr>\n",
       "    <tr>\n",
       "      <th>...</th>\n",
       "      <td>...</td>\n",
       "      <td>...</td>\n",
       "      <td>...</td>\n",
       "      <td>...</td>\n",
       "      <td>...</td>\n",
       "      <td>...</td>\n",
       "      <td>...</td>\n",
       "      <td>...</td>\n",
       "      <td>...</td>\n",
       "      <td>...</td>\n",
       "      <td>...</td>\n",
       "      <td>...</td>\n",
       "      <td>...</td>\n",
       "      <td>...</td>\n",
       "      <td>...</td>\n",
       "      <td>...</td>\n",
       "      <td>...</td>\n",
       "      <td>...</td>\n",
       "      <td>...</td>\n",
       "      <td>...</td>\n",
       "      <td>...</td>\n",
       "    </tr>\n",
       "    <tr>\n",
       "      <th>850276</th>\n",
       "      <td>850276</td>\n",
       "      <td>0</td>\n",
       "      <td>NaN</td>\n",
       "      <td>c06vws5</td>\n",
       "      <td>t3_7k8en</td>\n",
       "      <td>0</td>\n",
       "      <td>AskReddit</td>\n",
       "      <td>ENRICOs</td>\n",
       "      <td>2</td>\n",
       "      <td>t5_2qh1i</td>\n",
       "      <td>...</td>\n",
       "      <td>find a rewarding hobby...other than your invet...</td>\n",
       "      <td>1425909852</td>\n",
       "      <td>t3_7k8en</td>\n",
       "      <td>0</td>\n",
       "      <td>t1_c06vws5</td>\n",
       "      <td>False</td>\n",
       "      <td>NaN</td>\n",
       "      <td>True</td>\n",
       "      <td>1229579439</td>\n",
       "      <td>NaN</td>\n",
       "    </tr>\n",
       "    <tr>\n",
       "      <th>850305</th>\n",
       "      <td>850305</td>\n",
       "      <td>0</td>\n",
       "      <td>NaN</td>\n",
       "      <td>c06vwt2</td>\n",
       "      <td>t3_7k482</td>\n",
       "      <td>0</td>\n",
       "      <td>AskReddit</td>\n",
       "      <td>hax0r</td>\n",
       "      <td>3</td>\n",
       "      <td>t5_2qh1i</td>\n",
       "      <td>...</td>\n",
       "      <td>I'm already depressed, that just made it worse.</td>\n",
       "      <td>1428247739</td>\n",
       "      <td>t1_c06vouc</td>\n",
       "      <td>0</td>\n",
       "      <td>t1_c06vwt2</td>\n",
       "      <td>False</td>\n",
       "      <td>NaN</td>\n",
       "      <td>True</td>\n",
       "      <td>1229579538</td>\n",
       "      <td>NaN</td>\n",
       "    </tr>\n",
       "    <tr>\n",
       "      <th>850334</th>\n",
       "      <td>850334</td>\n",
       "      <td>0</td>\n",
       "      <td>NaN</td>\n",
       "      <td>c06vwtv</td>\n",
       "      <td>t3_7k377</td>\n",
       "      <td>0</td>\n",
       "      <td>AskReddit</td>\n",
       "      <td>NotMarkus</td>\n",
       "      <td>4</td>\n",
       "      <td>t5_2qh1i</td>\n",
       "      <td>...</td>\n",
       "      <td>`*`applause`*`</td>\n",
       "      <td>1428247741</td>\n",
       "      <td>t1_c06vurp</td>\n",
       "      <td>0</td>\n",
       "      <td>t1_c06vwtv</td>\n",
       "      <td>False</td>\n",
       "      <td>NaN</td>\n",
       "      <td>True</td>\n",
       "      <td>1229579628</td>\n",
       "      <td>NaN</td>\n",
       "    </tr>\n",
       "    <tr>\n",
       "      <th>850341</th>\n",
       "      <td>850341</td>\n",
       "      <td>0</td>\n",
       "      <td>NaN</td>\n",
       "      <td>c06vwu2</td>\n",
       "      <td>t3_7jbl7</td>\n",
       "      <td>0</td>\n",
       "      <td>AskReddit</td>\n",
       "      <td>Mr_A</td>\n",
       "      <td>8</td>\n",
       "      <td>t5_2qh1i</td>\n",
       "      <td>...</td>\n",
       "      <td>You just made me spit take my double ritalin e...</td>\n",
       "      <td>1428247741</td>\n",
       "      <td>t1_c06vs56</td>\n",
       "      <td>0</td>\n",
       "      <td>t1_c06vwu2</td>\n",
       "      <td>False</td>\n",
       "      <td>NaN</td>\n",
       "      <td>True</td>\n",
       "      <td>1229579655</td>\n",
       "      <td>NaN</td>\n",
       "    </tr>\n",
       "    <tr>\n",
       "      <th>850350</th>\n",
       "      <td>850350</td>\n",
       "      <td>0</td>\n",
       "      <td>NaN</td>\n",
       "      <td>c06vwub</td>\n",
       "      <td>t3_7k8en</td>\n",
       "      <td>0</td>\n",
       "      <td>AskReddit</td>\n",
       "      <td>[deleted]</td>\n",
       "      <td>6</td>\n",
       "      <td>t5_2qh1i</td>\n",
       "      <td>...</td>\n",
       "      <td>Get her drunk. Have sex with her. Father the c...</td>\n",
       "      <td>1428247742</td>\n",
       "      <td>t3_7k8en</td>\n",
       "      <td>0</td>\n",
       "      <td>t1_c06vwub</td>\n",
       "      <td>False</td>\n",
       "      <td>NaN</td>\n",
       "      <td>True</td>\n",
       "      <td>1229579664</td>\n",
       "      <td>NaN</td>\n",
       "    </tr>\n",
       "  </tbody>\n",
       "</table>\n",
       "<p>55006 rows × 23 columns</p>\n",
       "</div>"
      ],
      "text/plain": [
       "        Unnamed: 0  gilded author_flair_css_class       id   link_id  downs  \\\n",
       "21              21       0                    NaN        o  t3_7k903      0   \n",
       "26              26       0                    NaN        t  t3_7k377      0   \n",
       "50              50       0                    NaN       1h  t3_7k8xe      0   \n",
       "74              74       0                    NaN       25  t3_7k92p      0   \n",
       "107            107       0                    NaN       32  t3_7k7ff      0   \n",
       "...            ...     ...                    ...      ...       ...    ...   \n",
       "850276      850276       0                    NaN  c06vws5  t3_7k8en      0   \n",
       "850305      850305       0                    NaN  c06vwt2  t3_7k482      0   \n",
       "850334      850334       0                    NaN  c06vwtv  t3_7k377      0   \n",
       "850341      850341       0                    NaN  c06vwu2  t3_7jbl7      0   \n",
       "850350      850350       0                    NaN  c06vwub  t3_7k8en      0   \n",
       "\n",
       "        subreddit       author  score subreddit_id  ...  \\\n",
       "21      AskReddit       ermine      1     t5_2qh1i  ...   \n",
       "26      AskReddit        movzx      3     t5_2qh1i  ...   \n",
       "50      AskReddit  robrobrobot      5     t5_2qh1i  ...   \n",
       "74      AskReddit    [deleted]      1     t5_2qh1i  ...   \n",
       "107     AskReddit     kenlubin      1     t5_2qh1i  ...   \n",
       "...           ...          ...    ...          ...  ...   \n",
       "850276  AskReddit      ENRICOs      2     t5_2qh1i  ...   \n",
       "850305  AskReddit        hax0r      3     t5_2qh1i  ...   \n",
       "850334  AskReddit    NotMarkus      4     t5_2qh1i  ...   \n",
       "850341  AskReddit         Mr_A      8     t5_2qh1i  ...   \n",
       "850350  AskReddit    [deleted]      6     t5_2qh1i  ...   \n",
       "\n",
       "                                                     body  retrieved_on  \\\n",
       "21      Ok. Here's what you do. Get some speaker wire ...    1428217153   \n",
       "26                   lol yeah you're right! so hilarious!    1428217153   \n",
       "50      Yeah, I've contemplated that quite a bit as we...    1428217153   \n",
       "74                         Let us plan this one :).......    1428217153   \n",
       "107                                                which?    1428217154   \n",
       "...                                                   ...           ...   \n",
       "850276  find a rewarding hobby...other than your invet...    1425909852   \n",
       "850305    I'm already depressed, that just made it worse.    1428247739   \n",
       "850334                                     `*`applause`*`    1428247741   \n",
       "850341  You just made me spit take my double ritalin e...    1428247741   \n",
       "850350  Get her drunk. Have sex with her. Father the c...    1428247742   \n",
       "\n",
       "         parent_id controversiality        name score_hidden  distinguished  \\\n",
       "21        t3_7k903                0        t1_o        False            NaN   \n",
       "26      t1_c06vnj0                0        t1_t        False            NaN   \n",
       "50      t1_c06vwnq                0       t1_1h        False            NaN   \n",
       "74      t1_c06vwn9                0       t1_25        False            NaN   \n",
       "107       t3_7k7ff                0       t1_32        False            NaN   \n",
       "...            ...              ...         ...          ...            ...   \n",
       "850276    t3_7k8en                0  t1_c06vws5        False            NaN   \n",
       "850305  t1_c06vouc                0  t1_c06vwt2        False            NaN   \n",
       "850334  t1_c06vurp                0  t1_c06vwtv        False            NaN   \n",
       "850341  t1_c06vs56                0  t1_c06vwu2        False            NaN   \n",
       "850350    t3_7k8en                0  t1_c06vwub        False            NaN   \n",
       "\n",
       "       archived  created_utc removal_reason  \n",
       "21         True   1229580158            NaN  \n",
       "26         True   1229580220            NaN  \n",
       "50         True   1229580347            NaN  \n",
       "74         True   1229580422            NaN  \n",
       "107        True   1229580531            NaN  \n",
       "...         ...          ...            ...  \n",
       "850276     True   1229579439            NaN  \n",
       "850305     True   1229579538            NaN  \n",
       "850334     True   1229579628            NaN  \n",
       "850341     True   1229579655            NaN  \n",
       "850350     True   1229579664            NaN  \n",
       "\n",
       "[55006 rows x 23 columns]"
      ]
     },
     "execution_count": 8,
     "metadata": {},
     "output_type": "execute_result"
    }
   ],
   "source": [
    "ask_data"
   ]
  },
  {
   "cell_type": "code",
   "execution_count": 9,
   "metadata": {},
   "outputs": [
    {
     "name": "stdout",
     "output_type": "stream",
     "text": [
      "<class 'pandas.core.frame.DataFrame'>\n",
      "Int64Index: 55006 entries, 21 to 850350\n",
      "Data columns (total 23 columns):\n",
      " #   Column                  Non-Null Count  Dtype  \n",
      "---  ------                  --------------  -----  \n",
      " 0   Unnamed: 0              55006 non-null  int64  \n",
      " 1   gilded                  55006 non-null  int64  \n",
      " 2   author_flair_css_class  0 non-null      object \n",
      " 3   id                      55006 non-null  object \n",
      " 4   link_id                 55006 non-null  object \n",
      " 5   downs                   55006 non-null  int64  \n",
      " 6   subreddit               55006 non-null  object \n",
      " 7   author                  55006 non-null  object \n",
      " 8   score                   55006 non-null  int64  \n",
      " 9   subreddit_id            55006 non-null  object \n",
      " 10  ups                     55006 non-null  int64  \n",
      " 11  edited                  55006 non-null  int64  \n",
      " 12  author_flair_text       0 non-null      object \n",
      " 13  body                    55006 non-null  object \n",
      " 14  retrieved_on            55006 non-null  int64  \n",
      " 15  parent_id               55006 non-null  object \n",
      " 16  controversiality        55006 non-null  int64  \n",
      " 17  name                    55006 non-null  object \n",
      " 18  score_hidden            55006 non-null  bool   \n",
      " 19  distinguished           0 non-null      object \n",
      " 20  archived                55006 non-null  bool   \n",
      " 21  created_utc             55006 non-null  int64  \n",
      " 22  removal_reason          0 non-null      float64\n",
      "dtypes: bool(2), float64(1), int64(9), object(11)\n",
      "memory usage: 9.3+ MB\n"
     ]
    }
   ],
   "source": [
    "ask_data.info()"
   ]
  },
  {
   "cell_type": "markdown",
   "metadata": {},
   "source": [
    "### Observations:\n",
    "1. Feature 'removal_reason' is all null. So it can be removed. <br>\n",
    "2. Feature 'distinguished' has only two non-null. So it can be removed <br>\n",
    "3. Feature 'retrieved_on' is actually a datetime column. So I will keep it on hold and check whether in its absence, my model works well or not.\n",
    "4. Feature 'gilded' is all 0. There is no next number. So it can be removed from the column. It is of no use.<br>\n",
    "5. Feature 'downs' is all 0. There is no next number. So it can be removed from the column. It is of no use.<br>\n",
    "6. Feature 'controversiality' has only one value 1 and others 0. It is also like an outlier. So it is also of no use.<br>\n",
    "7. Feature 'score_hidden' has all values False. So it can be removed from the column. It is of no use\n",
    "9. Since created_utc is a datetime column, it doesnt hold any importance.<br>\n",
    "10. The ups column is our target's copy. I will remove it.<br>\n",
    "11. Feature 'Unnamed 0' is just the serial number which is useless.<br>\n",
    "12. Feature 'author_flair_css_class' is all null. So it can be removed.\n",
    "13. Feature 'subreddit' contains all same entry. It can be removed.\n",
    "14. The id column is all unique. So it does not contribute at all to our data. It can be removed\n",
    "15. The feature 'subreddit_id' has only one value all over. So it is also redundant.\n",
    "16. The feature 'author_flair_text' is all empty column. It can also be removed.\n",
    "17. Feature 'parent_id' is just random name. It does not play role.\n",
    "18. The feature 'name' is all unique, does not contribute either.\n",
    "19. Feature 'archived' has all True values. Can be removed.\n",
    "### Features that can be used (guessed) are\n",
    "-link id <br>\n",
    "-author"
   ]
  },
  {
   "cell_type": "code",
   "execution_count": 10,
   "metadata": {},
   "outputs": [],
   "source": [
    "ask_data=ask_data.drop(columns=['removal_reason','distinguished','retrieved_on','gilded','downs','controversiality','score_hidden','created_utc','ups','Unnamed: 0','author_flair_css_class','subreddit','id','subreddit_id','author_flair_text','name','archived'])"
   ]
  },
  {
   "cell_type": "markdown",
   "metadata": {},
   "source": [
    "<b>Note- The features like parent_id and link_id may play the role in modeling but we cant ask such input from the user. So removing them.</b>"
   ]
  },
  {
   "cell_type": "code",
   "execution_count": 11,
   "metadata": {},
   "outputs": [],
   "source": [
    "ask_data=ask_data.drop(columns=['link_id','parent_id','author'])"
   ]
  },
  {
   "cell_type": "code",
   "execution_count": 12,
   "metadata": {},
   "outputs": [
    {
     "data": {
      "text/html": [
       "<div>\n",
       "<style scoped>\n",
       "    .dataframe tbody tr th:only-of-type {\n",
       "        vertical-align: middle;\n",
       "    }\n",
       "\n",
       "    .dataframe tbody tr th {\n",
       "        vertical-align: top;\n",
       "    }\n",
       "\n",
       "    .dataframe thead th {\n",
       "        text-align: right;\n",
       "    }\n",
       "</style>\n",
       "<table border=\"1\" class=\"dataframe\">\n",
       "  <thead>\n",
       "    <tr style=\"text-align: right;\">\n",
       "      <th></th>\n",
       "      <th>score</th>\n",
       "      <th>edited</th>\n",
       "      <th>body</th>\n",
       "    </tr>\n",
       "  </thead>\n",
       "  <tbody>\n",
       "    <tr>\n",
       "      <th>21</th>\n",
       "      <td>1</td>\n",
       "      <td>0</td>\n",
       "      <td>Ok. Here's what you do. Get some speaker wire ...</td>\n",
       "    </tr>\n",
       "    <tr>\n",
       "      <th>26</th>\n",
       "      <td>3</td>\n",
       "      <td>0</td>\n",
       "      <td>lol yeah you're right! so hilarious!</td>\n",
       "    </tr>\n",
       "    <tr>\n",
       "      <th>50</th>\n",
       "      <td>5</td>\n",
       "      <td>0</td>\n",
       "      <td>Yeah, I've contemplated that quite a bit as we...</td>\n",
       "    </tr>\n",
       "    <tr>\n",
       "      <th>74</th>\n",
       "      <td>1</td>\n",
       "      <td>0</td>\n",
       "      <td>Let us plan this one :).......</td>\n",
       "    </tr>\n",
       "    <tr>\n",
       "      <th>107</th>\n",
       "      <td>1</td>\n",
       "      <td>0</td>\n",
       "      <td>which?</td>\n",
       "    </tr>\n",
       "  </tbody>\n",
       "</table>\n",
       "</div>"
      ],
      "text/plain": [
       "     score  edited                                               body\n",
       "21       1       0  Ok. Here's what you do. Get some speaker wire ...\n",
       "26       3       0               lol yeah you're right! so hilarious!\n",
       "50       5       0  Yeah, I've contemplated that quite a bit as we...\n",
       "74       1       0                     Let us plan this one :).......\n",
       "107      1       0                                             which?"
      ]
     },
     "execution_count": 12,
     "metadata": {},
     "output_type": "execute_result"
    }
   ],
   "source": [
    "ask_data.head()"
   ]
  },
  {
   "cell_type": "code",
   "execution_count": 13,
   "metadata": {
    "scrolled": true
   },
   "outputs": [
    {
     "name": "stdout",
     "output_type": "stream",
     "text": [
      "<class 'pandas.core.frame.DataFrame'>\n",
      "Int64Index: 55006 entries, 21 to 850350\n",
      "Data columns (total 3 columns):\n",
      " #   Column  Non-Null Count  Dtype \n",
      "---  ------  --------------  ----- \n",
      " 0   score   55006 non-null  int64 \n",
      " 1   edited  55006 non-null  int64 \n",
      " 2   body    55006 non-null  object\n",
      "dtypes: int64(2), object(1)\n",
      "memory usage: 1.7+ MB\n"
     ]
    }
   ],
   "source": [
    "ask_data.info()"
   ]
  },
  {
   "cell_type": "markdown",
   "metadata": {},
   "source": [
    "20. The feature 'score' is actually a label. So we will remove it."
   ]
  },
  {
   "cell_type": "code",
   "execution_count": 14,
   "metadata": {
    "scrolled": true
   },
   "outputs": [],
   "source": [
    "#For now, we will just take comments as x and score as our y value\n",
    "y=ask_data['score']\n",
    "ask_data=ask_data.drop(columns='score',axis=1)"
   ]
  },
  {
   "cell_type": "code",
   "execution_count": 15,
   "metadata": {},
   "outputs": [
    {
     "data": {
      "text/html": [
       "<div>\n",
       "<style scoped>\n",
       "    .dataframe tbody tr th:only-of-type {\n",
       "        vertical-align: middle;\n",
       "    }\n",
       "\n",
       "    .dataframe tbody tr th {\n",
       "        vertical-align: top;\n",
       "    }\n",
       "\n",
       "    .dataframe thead th {\n",
       "        text-align: right;\n",
       "    }\n",
       "</style>\n",
       "<table border=\"1\" class=\"dataframe\">\n",
       "  <thead>\n",
       "    <tr style=\"text-align: right;\">\n",
       "      <th></th>\n",
       "      <th>edited</th>\n",
       "      <th>body</th>\n",
       "    </tr>\n",
       "  </thead>\n",
       "  <tbody>\n",
       "    <tr>\n",
       "      <th>21</th>\n",
       "      <td>0</td>\n",
       "      <td>Ok. Here's what you do. Get some speaker wire ...</td>\n",
       "    </tr>\n",
       "    <tr>\n",
       "      <th>26</th>\n",
       "      <td>0</td>\n",
       "      <td>lol yeah you're right! so hilarious!</td>\n",
       "    </tr>\n",
       "    <tr>\n",
       "      <th>50</th>\n",
       "      <td>0</td>\n",
       "      <td>Yeah, I've contemplated that quite a bit as we...</td>\n",
       "    </tr>\n",
       "    <tr>\n",
       "      <th>74</th>\n",
       "      <td>0</td>\n",
       "      <td>Let us plan this one :).......</td>\n",
       "    </tr>\n",
       "    <tr>\n",
       "      <th>107</th>\n",
       "      <td>0</td>\n",
       "      <td>which?</td>\n",
       "    </tr>\n",
       "    <tr>\n",
       "      <th>...</th>\n",
       "      <td>...</td>\n",
       "      <td>...</td>\n",
       "    </tr>\n",
       "    <tr>\n",
       "      <th>850276</th>\n",
       "      <td>0</td>\n",
       "      <td>find a rewarding hobby...other than your invet...</td>\n",
       "    </tr>\n",
       "    <tr>\n",
       "      <th>850305</th>\n",
       "      <td>0</td>\n",
       "      <td>I'm already depressed, that just made it worse.</td>\n",
       "    </tr>\n",
       "    <tr>\n",
       "      <th>850334</th>\n",
       "      <td>0</td>\n",
       "      <td>`*`applause`*`</td>\n",
       "    </tr>\n",
       "    <tr>\n",
       "      <th>850341</th>\n",
       "      <td>0</td>\n",
       "      <td>You just made me spit take my double ritalin e...</td>\n",
       "    </tr>\n",
       "    <tr>\n",
       "      <th>850350</th>\n",
       "      <td>0</td>\n",
       "      <td>Get her drunk. Have sex with her. Father the c...</td>\n",
       "    </tr>\n",
       "  </tbody>\n",
       "</table>\n",
       "<p>55006 rows × 2 columns</p>\n",
       "</div>"
      ],
      "text/plain": [
       "        edited                                               body\n",
       "21           0  Ok. Here's what you do. Get some speaker wire ...\n",
       "26           0               lol yeah you're right! so hilarious!\n",
       "50           0  Yeah, I've contemplated that quite a bit as we...\n",
       "74           0                     Let us plan this one :).......\n",
       "107          0                                             which?\n",
       "...        ...                                                ...\n",
       "850276       0  find a rewarding hobby...other than your invet...\n",
       "850305       0    I'm already depressed, that just made it worse.\n",
       "850334       0                                     `*`applause`*`\n",
       "850341       0  You just made me spit take my double ritalin e...\n",
       "850350       0  Get her drunk. Have sex with her. Father the c...\n",
       "\n",
       "[55006 rows x 2 columns]"
      ]
     },
     "execution_count": 15,
     "metadata": {},
     "output_type": "execute_result"
    }
   ],
   "source": [
    "ask_data"
   ]
  },
  {
   "cell_type": "code",
   "execution_count": 16,
   "metadata": {},
   "outputs": [],
   "source": [
    "x=ask_data['body'].values"
   ]
  },
  {
   "cell_type": "markdown",
   "metadata": {},
   "source": [
    "### Cleaning the Text"
   ]
  },
  {
   "cell_type": "code",
   "execution_count": 17,
   "metadata": {
    "scrolled": true
   },
   "outputs": [
    {
     "data": {
      "text/plain": [
       "array([\"Ok. Here's what you do. Get some speaker wire and either coil it into loops of ~3.5ft or cut strips of the same length. You'll want a good handful of strips or loops. Now strip the insulation from the last foot or so. Take a knife and run it up &amp; down the exposed wire (think barber sharpening razor). Do this until metal splinters begin to form. Repeat for each loop.\\r\\n\\r\\nNow here's the tricky part. Do you fish? Your swatting motion should result in the splinters sticking into your child's delicate skin. Wrist motion is important. You should feel a certain resistance when you try to bring the wire back in preparation for the next strike. This should be similar to the sensation when you first realize you have a fish on your line. If this doesn't occur, then keep trying. Practice makes perfect. A skilled individual will be able to remove little chunks of flesh with each swat.\",\n",
       "       \"lol yeah you're right! so hilarious!\",\n",
       "       \"Yeah, I've contemplated that quite a bit as well. I guess the most unnerving thing is  the incomprehensibility of it all. The fact that I can't wrap my head around the fact that I didn't exist (consciously not physically, the matter I am physically made of has existed since the beginning of matter itself) prior to being conceived is just so unbelievably  disconcerting for me for some reason\",\n",
       "       ..., '`*`applause`*`',\n",
       "       'You just made me spit take my double ritalin espresso all over the keyboard!',\n",
       "       'Get her drunk. Have sex with her. Father the child; marry her.\\nGet absofuckinglutely bored of the relationship in a few years. Enjoy.'],\n",
       "      dtype=object)"
      ]
     },
     "execution_count": 17,
     "metadata": {},
     "output_type": "execute_result"
    }
   ],
   "source": [
    "x"
   ]
  },
  {
   "cell_type": "code",
   "execution_count": 18,
   "metadata": {},
   "outputs": [
    {
     "data": {
      "text/plain": [
       "'hi biggest psychological nicest historian'"
      ]
     },
     "execution_count": 18,
     "metadata": {},
     "output_type": "execute_result"
    }
   ],
   "source": [
    "def cleaner(data):\n",
    "    data1=re.sub('[^a-zA-Z]',' ',data)\n",
    "    data2=data1.lower()\n",
    "    data3=data2.strip()\n",
    "    data4=nltk.word_tokenize(data3)\n",
    "    data5=[i for i in data4 if i not in set(stopwords.words('english'))]\n",
    "    data6=[WordNetLemmatizer().lemmatize(i) for i in data5]\n",
    "    data7=' '.join(data6)\n",
    "    return data7\n",
    "cleaner('hi How! are 34 the biggest psychological nicest historians')"
   ]
  },
  {
   "cell_type": "code",
   "execution_count": 19,
   "metadata": {},
   "outputs": [],
   "source": [
    "for k in range(len(x)):\n",
    "    x[k]=cleaner(x[k])\n"
   ]
  },
  {
   "cell_type": "code",
   "execution_count": 20,
   "metadata": {},
   "outputs": [],
   "source": [
    "x=[i.split() for i in x]"
   ]
  },
  {
   "cell_type": "code",
   "execution_count": 21,
   "metadata": {},
   "outputs": [
    {
     "data": {
      "text/plain": [
       "55006"
      ]
     },
     "execution_count": 21,
     "metadata": {},
     "output_type": "execute_result"
    }
   ],
   "source": [
    "len(x)"
   ]
  },
  {
   "cell_type": "code",
   "execution_count": 22,
   "metadata": {},
   "outputs": [
    {
     "data": {
      "text/plain": [
       "(55006,)"
      ]
     },
     "execution_count": 22,
     "metadata": {},
     "output_type": "execute_result"
    }
   ],
   "source": [
    "y.shape"
   ]
  },
  {
   "cell_type": "markdown",
   "metadata": {},
   "source": [
    "## Modeling"
   ]
  },
  {
   "cell_type": "markdown",
   "metadata": {},
   "source": [
    "### Using Doc2Vec \n"
   ]
  },
  {
   "cell_type": "markdown",
   "metadata": {},
   "source": [
    "<b>Word2Vec creates sentiments with words where Doc2Vec creates sentiments with sentences.</b>\n"
   ]
  },
  {
   "cell_type": "code",
   "execution_count": 23,
   "metadata": {},
   "outputs": [],
   "source": [
    "import gensim\n",
    "from gensim.models import Doc2Vec\n",
    "from gensim.models.doc2vec import TaggedDocument"
   ]
  },
  {
   "cell_type": "code",
   "execution_count": 24,
   "metadata": {},
   "outputs": [],
   "source": [
    "tagged_data=[TaggedDocument(d,[i]) for i,d in enumerate(x)]"
   ]
  },
  {
   "cell_type": "code",
   "execution_count": 25,
   "metadata": {},
   "outputs": [
    {
     "data": {
      "text/plain": [
       "55006"
      ]
     },
     "execution_count": 25,
     "metadata": {},
     "output_type": "execute_result"
    }
   ],
   "source": [
    "len(tagged_data)"
   ]
  },
  {
   "cell_type": "code",
   "execution_count": 26,
   "metadata": {},
   "outputs": [],
   "source": [
    "model=Doc2Vec(tagged_data,vector_size=20,epochs=100,min_count=0)"
   ]
  },
  {
   "cell_type": "code",
   "execution_count": 27,
   "metadata": {},
   "outputs": [
    {
     "data": {
      "text/plain": [
       "55006"
      ]
     },
     "execution_count": 27,
     "metadata": {},
     "output_type": "execute_result"
    }
   ],
   "source": [
    "model.corpus_count"
   ]
  },
  {
   "cell_type": "code",
   "execution_count": 28,
   "metadata": {},
   "outputs": [],
   "source": [
    "o_model=model.docvecs.vectors_docs"
   ]
  },
  {
   "cell_type": "code",
   "execution_count": 29,
   "metadata": {},
   "outputs": [
    {
     "data": {
      "text/plain": [
       "(55006, 20)"
      ]
     },
     "execution_count": 29,
     "metadata": {},
     "output_type": "execute_result"
    }
   ],
   "source": [
    "o_model.shape"
   ]
  },
  {
   "cell_type": "code",
   "execution_count": 30,
   "metadata": {},
   "outputs": [
    {
     "data": {
      "text/plain": [
       "(55006, 20)"
      ]
     },
     "execution_count": 30,
     "metadata": {},
     "output_type": "execute_result"
    }
   ],
   "source": [
    "model.docvecs.vectors_docs.shape"
   ]
  },
  {
   "cell_type": "code",
   "execution_count": 31,
   "metadata": {
    "scrolled": false
   },
   "outputs": [
    {
     "data": {
      "text/plain": [
       "(55006,)"
      ]
     },
     "execution_count": 31,
     "metadata": {},
     "output_type": "execute_result"
    }
   ],
   "source": [
    "y.shape"
   ]
  },
  {
   "cell_type": "markdown",
   "metadata": {},
   "source": [
    "### Adding 'edited' feature to the model"
   ]
  },
  {
   "cell_type": "code",
   "execution_count": 32,
   "metadata": {},
   "outputs": [],
   "source": [
    "val=ask_data['edited'].values"
   ]
  },
  {
   "cell_type": "code",
   "execution_count": 33,
   "metadata": {},
   "outputs": [],
   "source": [
    "newpd=pd.DataFrame(o_model)"
   ]
  },
  {
   "cell_type": "code",
   "execution_count": 34,
   "metadata": {},
   "outputs": [],
   "source": [
    "newpd.insert(loc=20,column=20,value=val)"
   ]
  },
  {
   "cell_type": "code",
   "execution_count": 35,
   "metadata": {},
   "outputs": [],
   "source": [
    "final_op=newpd.values"
   ]
  },
  {
   "cell_type": "code",
   "execution_count": 36,
   "metadata": {},
   "outputs": [
    {
     "data": {
      "text/plain": [
       "(55006, 21)"
      ]
     },
     "execution_count": 36,
     "metadata": {},
     "output_type": "execute_result"
    }
   ],
   "source": [
    "final_op.shape"
   ]
  },
  {
   "cell_type": "code",
   "execution_count": 54,
   "metadata": {},
   "outputs": [],
   "source": [
    "from sklearn.preprocessing import StandardScaler\n",
    "ss=StandardScaler()\n",
    "final_op_scaled=ss.fit_transform(final_op)"
   ]
  },
  {
   "cell_type": "markdown",
   "metadata": {},
   "source": [
    "\n",
    "## Train Test Split"
   ]
  },
  {
   "cell_type": "code",
   "execution_count": 59,
   "metadata": {},
   "outputs": [],
   "source": [
    "from sklearn.model_selection import train_test_split\n",
    "xtr,xte,ytr,yte=train_test_split(final_op_scaled,y,test_size=0.2)"
   ]
  },
  {
   "cell_type": "markdown",
   "metadata": {},
   "source": [
    "## Trying ElasticNet"
   ]
  },
  {
   "cell_type": "code",
   "execution_count": 60,
   "metadata": {},
   "outputs": [],
   "source": [
    "from sklearn.linear_model import ElasticNet"
   ]
  },
  {
   "cell_type": "code",
   "execution_count": 61,
   "metadata": {},
   "outputs": [],
   "source": [
    "elr=ElasticNet()"
   ]
  },
  {
   "cell_type": "code",
   "execution_count": 62,
   "metadata": {},
   "outputs": [
    {
     "data": {
      "text/plain": [
       "ElasticNet()"
      ]
     },
     "execution_count": 62,
     "metadata": {},
     "output_type": "execute_result"
    }
   ],
   "source": [
    "elr.fit(xtr,ytr)"
   ]
  },
  {
   "cell_type": "code",
   "execution_count": 63,
   "metadata": {},
   "outputs": [],
   "source": [
    "y_pred=elr.predict(xte)"
   ]
  },
  {
   "cell_type": "code",
   "execution_count": 64,
   "metadata": {},
   "outputs": [
    {
     "data": {
      "text/plain": [
       "array([4.76740758, 4.64290865, 4.52442696, ..., 4.70266313, 4.90489264,\n",
       "       5.94695779])"
      ]
     },
     "execution_count": 64,
     "metadata": {},
     "output_type": "execute_result"
    }
   ],
   "source": [
    "y_pred"
   ]
  },
  {
   "cell_type": "code",
   "execution_count": 65,
   "metadata": {
    "scrolled": true
   },
   "outputs": [
    {
     "data": {
      "text/plain": [
       "643383     1\n",
       "198271    19\n",
       "347150     2\n",
       "160757     3\n",
       "692496     3\n",
       "          ..\n",
       "120462    31\n",
       "21591      2\n",
       "400732     1\n",
       "358745     1\n",
       "492021     2\n",
       "Name: score, Length: 11002, dtype: int64"
      ]
     },
     "execution_count": 65,
     "metadata": {},
     "output_type": "execute_result"
    }
   ],
   "source": [
    "yte"
   ]
  },
  {
   "cell_type": "code",
   "execution_count": 66,
   "metadata": {
    "scrolled": true
   },
   "outputs": [
    {
     "name": "stdout",
     "output_type": "stream",
     "text": [
      "12.39271048786027\n",
      "0.05000484099550631\n"
     ]
    }
   ],
   "source": [
    "from sklearn.metrics import mean_squared_error,r2_score\n",
    "print(np.sqrt(mean_squared_error(yte,y_pred)))\n",
    "print(np.sqrt(r2_score(yte,y_pred)))\n"
   ]
  },
  {
   "cell_type": "markdown",
   "metadata": {},
   "source": [
    "### Checking with one sentence as input"
   ]
  },
  {
   "cell_type": "code",
   "execution_count": 116,
   "metadata": {},
   "outputs": [
    {
     "name": "stdout",
     "output_type": "stream",
     "text": [
      "Enter the sentence: you fucking bastard\n",
      "Enter the number of edits made:1\n"
     ]
    }
   ],
   "source": [
    "#Checking with input sentence\n",
    "inp_sent=input('Enter the sentence: ')\n",
    "inp_edit=int(input('Enter the number of edits made:'))"
   ]
  },
  {
   "cell_type": "code",
   "execution_count": 125,
   "metadata": {},
   "outputs": [],
   "source": [
    "def for_one_input(a,b):\n",
    "    cleaned_inp=cleaner(a)\n",
    "    listed=cleaned_inp.split()\n",
    "    vectorized_inp=model.infer_vector(listed)\n",
    "    all_added=np.append(vectorized_inp,b)\n",
    "    all_added_scaled=ss.fit_transform(all_added.reshape(-1,1))\n",
    "    return np.round(elr.predict(all_added_scaled.reshape(1,-1)),0)"
   ]
  },
  {
   "cell_type": "code",
   "execution_count": 130,
   "metadata": {},
   "outputs": [
    {
     "name": "stdout",
     "output_type": "stream",
     "text": [
      "Enter the sentence: cleaned_inp=cleaner(inp_sent) listed=cleaned_inp.split() vectorized_inp=model.infer_vector(listed) all_added=np.append(vectorized_inp,inp_edit) all_added_scaled=ss.fit_transform(all_added.reshape(-1,1)) elr.predict(all_added_scaled.reshape(1,-1))\n",
      "Enter the number of edits made:23\n",
      "The number of comments you will receive is , [5.]\n"
     ]
    }
   ],
   "source": [
    "#Checking with input sentence\n",
    "inp_sent=input('Enter the sentence: ')\n",
    "inp_edit=int(input('Enter the number of edits made:'))\n",
    "\n",
    "print('The number of comments you will receive is ,',for_one_input(inp_sent,inp_edit))"
   ]
  },
  {
   "cell_type": "markdown",
   "metadata": {},
   "source": [
    "## Deployment"
   ]
  },
  {
   "cell_type": "markdown",
   "metadata": {},
   "source": [
    "# THE CODES BELOW THIS BLOCK ARE RUDIMENTARY😜"
   ]
  },
  {
   "cell_type": "markdown",
   "metadata": {},
   "source": [
    "## Trying NN "
   ]
  },
  {
   "cell_type": "markdown",
   "metadata": {},
   "source": [
    "### NN Preprocessing"
   ]
  },
  {
   "cell_type": "code",
   "execution_count": 28,
   "metadata": {},
   "outputs": [],
   "source": [
    "import tensorflow \n",
    "from tensorflow import keras\n",
    "from keras.preprocessing.text import Tokenizer\n",
    "from keras.preprocessing.sequence import pad_sequences\n"
   ]
  },
  {
   "cell_type": "code",
   "execution_count": 29,
   "metadata": {},
   "outputs": [],
   "source": [
    "tk=Tokenizer(num_words=10000,oov_token='OOV')\n",
    "tk.fit_on_texts(x)"
   ]
  },
  {
   "cell_type": "code",
   "execution_count": 32,
   "metadata": {},
   "outputs": [],
   "source": [
    "seq=tk.texts_to_sequences(x)"
   ]
  },
  {
   "cell_type": "code",
   "execution_count": 45,
   "metadata": {},
   "outputs": [],
   "source": [
    "padded_seq=keras.preprocessing.sequence.pad_sequences(seq,maxlen=100)"
   ]
  },
  {
   "cell_type": "code",
   "execution_count": 52,
   "metadata": {},
   "outputs": [
    {
     "name": "stdout",
     "output_type": "stream",
     "text": [
      "860 45327\n"
     ]
    }
   ],
   "source": [
    "max_len=max([len(i.split()) for i in x])\n",
    "vocab_size=len(tk.word_index)+1\n",
    "print(max_len,vocab_size)"
   ]
  },
  {
   "cell_type": "markdown",
   "metadata": {},
   "source": [
    "### NN Modeling"
   ]
  },
  {
   "cell_type": "code",
   "execution_count": 58,
   "metadata": {},
   "outputs": [],
   "source": [
    "model=keras.models.Sequential()\n",
    "model.add(keras.layers.Embedding(input_dim=vocab_size,output_dim=50,input_length=max_len))\n",
    "model.add(keras.layers.Bidirectional(keras.layers.LSTM(50)))\n",
    "model.add(keras.layers.Dense(50))\n",
    "model.add(keras.layers.Dense(50))\n",
    "model.add(keras.layers.Dense(1))\n"
   ]
  },
  {
   "cell_type": "code",
   "execution_count": 59,
   "metadata": {},
   "outputs": [
    {
     "name": "stdout",
     "output_type": "stream",
     "text": [
      "Model: \"sequential_2\"\n",
      "_________________________________________________________________\n",
      "Layer (type)                 Output Shape              Param #   \n",
      "=================================================================\n",
      "embedding_2 (Embedding)      (None, 860, 50)           2266350   \n",
      "_________________________________________________________________\n",
      "bidirectional_1 (Bidirection (None, 100)               40400     \n",
      "_________________________________________________________________\n",
      "dense_3 (Dense)              (None, 50)                5050      \n",
      "_________________________________________________________________\n",
      "dense_4 (Dense)              (None, 50)                2550      \n",
      "_________________________________________________________________\n",
      "dense_5 (Dense)              (None, 1)                 51        \n",
      "=================================================================\n",
      "Total params: 2,314,401\n",
      "Trainable params: 2,314,401\n",
      "Non-trainable params: 0\n",
      "_________________________________________________________________\n"
     ]
    }
   ],
   "source": [
    "model.summary()"
   ]
  },
  {
   "cell_type": "code",
   "execution_count": 60,
   "metadata": {},
   "outputs": [],
   "source": [
    "model.compile(loss='mean_squared_error',optimizer='adam',metrics='accuracy')"
   ]
  },
  {
   "cell_type": "code",
   "execution_count": 63,
   "metadata": {},
   "outputs": [
    {
     "name": "stdout",
     "output_type": "stream",
     "text": [
      "Epoch 1/10\n",
      "WARNING:tensorflow:Model was constructed with shape (None, 860) for input KerasTensor(type_spec=TensorSpec(shape=(None, 860), dtype=tf.float32, name='embedding_2_input'), name='embedding_2_input', description=\"created by layer 'embedding_2_input'\"), but it was called on an input with incompatible shape (None, 100).\n",
      "WARNING:tensorflow:Model was constructed with shape (None, 860) for input KerasTensor(type_spec=TensorSpec(shape=(None, 860), dtype=tf.float32, name='embedding_2_input'), name='embedding_2_input', description=\"created by layer 'embedding_2_input'\"), but it was called on an input with incompatible shape (None, 100).\n",
      "1204/1204 [==============================] - ETA: 0s - loss: 162.3136 - accuracy: 0.3001WARNING:tensorflow:Model was constructed with shape (None, 860) for input KerasTensor(type_spec=TensorSpec(shape=(None, 860), dtype=tf.float32, name='embedding_2_input'), name='embedding_2_input', description=\"created by layer 'embedding_2_input'\"), but it was called on an input with incompatible shape (None, 100).\n",
      "1204/1204 [==============================] - 113s 88ms/step - loss: 162.3740 - accuracy: 0.3001 - val_loss: 127.8762 - val_accuracy: 0.3443\n",
      "Epoch 2/10\n",
      "1203/1204 [============================>.] - ETA: 0s - loss: 199.5233 - accuracy: 0.3100"
     ]
    },
    {
     "ename": "KeyboardInterrupt",
     "evalue": "",
     "output_type": "error",
     "traceback": [
      "\u001b[1;31m---------------------------------------------------------------------------\u001b[0m",
      "\u001b[1;31mKeyboardInterrupt\u001b[0m                         Traceback (most recent call last)",
      "\u001b[1;32m<ipython-input-63-7864685e8162>\u001b[0m in \u001b[0;36m<module>\u001b[1;34m\u001b[0m\n\u001b[1;32m----> 1\u001b[1;33m \u001b[0mhist\u001b[0m\u001b[1;33m=\u001b[0m\u001b[0mmodel\u001b[0m\u001b[1;33m.\u001b[0m\u001b[0mfit\u001b[0m\u001b[1;33m(\u001b[0m\u001b[0mpadded_seq\u001b[0m\u001b[1;33m,\u001b[0m\u001b[0my\u001b[0m\u001b[1;33m,\u001b[0m\u001b[0mbatch_size\u001b[0m\u001b[1;33m=\u001b[0m\u001b[1;36m32\u001b[0m\u001b[1;33m,\u001b[0m\u001b[0mepochs\u001b[0m\u001b[1;33m=\u001b[0m\u001b[1;36m10\u001b[0m\u001b[1;33m,\u001b[0m\u001b[0mvalidation_split\u001b[0m\u001b[1;33m=\u001b[0m\u001b[1;36m0.3\u001b[0m\u001b[1;33m)\u001b[0m\u001b[1;33m\u001b[0m\u001b[1;33m\u001b[0m\u001b[0m\n\u001b[0m",
      "\u001b[1;32m~\\anaconda3\\lib\\site-packages\\tensorflow\\python\\keras\\engine\\training.py\u001b[0m in \u001b[0;36mfit\u001b[1;34m(self, x, y, batch_size, epochs, verbose, callbacks, validation_split, validation_data, shuffle, class_weight, sample_weight, initial_epoch, steps_per_epoch, validation_steps, validation_batch_size, validation_freq, max_queue_size, workers, use_multiprocessing)\u001b[0m\n\u001b[0;32m   1129\u001b[0m                 \u001b[0mmodel\u001b[0m\u001b[1;33m=\u001b[0m\u001b[0mself\u001b[0m\u001b[1;33m,\u001b[0m\u001b[1;33m\u001b[0m\u001b[1;33m\u001b[0m\u001b[0m\n\u001b[0;32m   1130\u001b[0m                 steps_per_execution=self._steps_per_execution)\n\u001b[1;32m-> 1131\u001b[1;33m           val_logs = self.evaluate(\n\u001b[0m\u001b[0;32m   1132\u001b[0m               \u001b[0mx\u001b[0m\u001b[1;33m=\u001b[0m\u001b[0mval_x\u001b[0m\u001b[1;33m,\u001b[0m\u001b[1;33m\u001b[0m\u001b[1;33m\u001b[0m\u001b[0m\n\u001b[0;32m   1133\u001b[0m               \u001b[0my\u001b[0m\u001b[1;33m=\u001b[0m\u001b[0mval_y\u001b[0m\u001b[1;33m,\u001b[0m\u001b[1;33m\u001b[0m\u001b[1;33m\u001b[0m\u001b[0m\n",
      "\u001b[1;32m~\\anaconda3\\lib\\site-packages\\tensorflow\\python\\keras\\engine\\training.py\u001b[0m in \u001b[0;36mevaluate\u001b[1;34m(self, x, y, batch_size, verbose, sample_weight, steps, callbacks, max_queue_size, workers, use_multiprocessing, return_dict)\u001b[0m\n\u001b[0;32m   1387\u001b[0m             \u001b[1;32mwith\u001b[0m \u001b[0mtrace\u001b[0m\u001b[1;33m.\u001b[0m\u001b[0mTrace\u001b[0m\u001b[1;33m(\u001b[0m\u001b[1;34m'test'\u001b[0m\u001b[1;33m,\u001b[0m \u001b[0mstep_num\u001b[0m\u001b[1;33m=\u001b[0m\u001b[0mstep\u001b[0m\u001b[1;33m,\u001b[0m \u001b[0m_r\u001b[0m\u001b[1;33m=\u001b[0m\u001b[1;36m1\u001b[0m\u001b[1;33m)\u001b[0m\u001b[1;33m:\u001b[0m\u001b[1;33m\u001b[0m\u001b[1;33m\u001b[0m\u001b[0m\n\u001b[0;32m   1388\u001b[0m               \u001b[0mcallbacks\u001b[0m\u001b[1;33m.\u001b[0m\u001b[0mon_test_batch_begin\u001b[0m\u001b[1;33m(\u001b[0m\u001b[0mstep\u001b[0m\u001b[1;33m)\u001b[0m\u001b[1;33m\u001b[0m\u001b[1;33m\u001b[0m\u001b[0m\n\u001b[1;32m-> 1389\u001b[1;33m               \u001b[0mtmp_logs\u001b[0m \u001b[1;33m=\u001b[0m \u001b[0mself\u001b[0m\u001b[1;33m.\u001b[0m\u001b[0mtest_function\u001b[0m\u001b[1;33m(\u001b[0m\u001b[0miterator\u001b[0m\u001b[1;33m)\u001b[0m\u001b[1;33m\u001b[0m\u001b[1;33m\u001b[0m\u001b[0m\n\u001b[0m\u001b[0;32m   1390\u001b[0m               \u001b[1;32mif\u001b[0m \u001b[0mdata_handler\u001b[0m\u001b[1;33m.\u001b[0m\u001b[0mshould_sync\u001b[0m\u001b[1;33m:\u001b[0m\u001b[1;33m\u001b[0m\u001b[1;33m\u001b[0m\u001b[0m\n\u001b[0;32m   1391\u001b[0m                 \u001b[0mcontext\u001b[0m\u001b[1;33m.\u001b[0m\u001b[0masync_wait\u001b[0m\u001b[1;33m(\u001b[0m\u001b[1;33m)\u001b[0m\u001b[1;33m\u001b[0m\u001b[1;33m\u001b[0m\u001b[0m\n",
      "\u001b[1;32m~\\anaconda3\\lib\\site-packages\\tensorflow\\python\\eager\\def_function.py\u001b[0m in \u001b[0;36m__call__\u001b[1;34m(self, *args, **kwds)\u001b[0m\n\u001b[0;32m    826\u001b[0m     \u001b[0mtracing_count\u001b[0m \u001b[1;33m=\u001b[0m \u001b[0mself\u001b[0m\u001b[1;33m.\u001b[0m\u001b[0mexperimental_get_tracing_count\u001b[0m\u001b[1;33m(\u001b[0m\u001b[1;33m)\u001b[0m\u001b[1;33m\u001b[0m\u001b[1;33m\u001b[0m\u001b[0m\n\u001b[0;32m    827\u001b[0m     \u001b[1;32mwith\u001b[0m \u001b[0mtrace\u001b[0m\u001b[1;33m.\u001b[0m\u001b[0mTrace\u001b[0m\u001b[1;33m(\u001b[0m\u001b[0mself\u001b[0m\u001b[1;33m.\u001b[0m\u001b[0m_name\u001b[0m\u001b[1;33m)\u001b[0m \u001b[1;32mas\u001b[0m \u001b[0mtm\u001b[0m\u001b[1;33m:\u001b[0m\u001b[1;33m\u001b[0m\u001b[1;33m\u001b[0m\u001b[0m\n\u001b[1;32m--> 828\u001b[1;33m       \u001b[0mresult\u001b[0m \u001b[1;33m=\u001b[0m \u001b[0mself\u001b[0m\u001b[1;33m.\u001b[0m\u001b[0m_call\u001b[0m\u001b[1;33m(\u001b[0m\u001b[1;33m*\u001b[0m\u001b[0margs\u001b[0m\u001b[1;33m,\u001b[0m \u001b[1;33m**\u001b[0m\u001b[0mkwds\u001b[0m\u001b[1;33m)\u001b[0m\u001b[1;33m\u001b[0m\u001b[1;33m\u001b[0m\u001b[0m\n\u001b[0m\u001b[0;32m    829\u001b[0m       \u001b[0mcompiler\u001b[0m \u001b[1;33m=\u001b[0m \u001b[1;34m\"xla\"\u001b[0m \u001b[1;32mif\u001b[0m \u001b[0mself\u001b[0m\u001b[1;33m.\u001b[0m\u001b[0m_experimental_compile\u001b[0m \u001b[1;32melse\u001b[0m \u001b[1;34m\"nonXla\"\u001b[0m\u001b[1;33m\u001b[0m\u001b[1;33m\u001b[0m\u001b[0m\n\u001b[0;32m    830\u001b[0m       \u001b[0mnew_tracing_count\u001b[0m \u001b[1;33m=\u001b[0m \u001b[0mself\u001b[0m\u001b[1;33m.\u001b[0m\u001b[0mexperimental_get_tracing_count\u001b[0m\u001b[1;33m(\u001b[0m\u001b[1;33m)\u001b[0m\u001b[1;33m\u001b[0m\u001b[1;33m\u001b[0m\u001b[0m\n",
      "\u001b[1;32m~\\anaconda3\\lib\\site-packages\\tensorflow\\python\\eager\\def_function.py\u001b[0m in \u001b[0;36m_call\u001b[1;34m(self, *args, **kwds)\u001b[0m\n\u001b[0;32m    860\u001b[0m       \u001b[1;31m# In this case we have not created variables on the first call. So we can\u001b[0m\u001b[1;33m\u001b[0m\u001b[1;33m\u001b[0m\u001b[1;33m\u001b[0m\u001b[0m\n\u001b[0;32m    861\u001b[0m       \u001b[1;31m# run the first trace but we should fail if variables are created.\u001b[0m\u001b[1;33m\u001b[0m\u001b[1;33m\u001b[0m\u001b[1;33m\u001b[0m\u001b[0m\n\u001b[1;32m--> 862\u001b[1;33m       \u001b[0mresults\u001b[0m \u001b[1;33m=\u001b[0m \u001b[0mself\u001b[0m\u001b[1;33m.\u001b[0m\u001b[0m_stateful_fn\u001b[0m\u001b[1;33m(\u001b[0m\u001b[1;33m*\u001b[0m\u001b[0margs\u001b[0m\u001b[1;33m,\u001b[0m \u001b[1;33m**\u001b[0m\u001b[0mkwds\u001b[0m\u001b[1;33m)\u001b[0m\u001b[1;33m\u001b[0m\u001b[1;33m\u001b[0m\u001b[0m\n\u001b[0m\u001b[0;32m    863\u001b[0m       \u001b[1;32mif\u001b[0m \u001b[0mself\u001b[0m\u001b[1;33m.\u001b[0m\u001b[0m_created_variables\u001b[0m\u001b[1;33m:\u001b[0m\u001b[1;33m\u001b[0m\u001b[1;33m\u001b[0m\u001b[0m\n\u001b[0;32m    864\u001b[0m         raise ValueError(\"Creating variables on a non-first call to a function\"\n",
      "\u001b[1;32m~\\anaconda3\\lib\\site-packages\\tensorflow\\python\\eager\\function.py\u001b[0m in \u001b[0;36m__call__\u001b[1;34m(self, *args, **kwargs)\u001b[0m\n\u001b[0;32m   2940\u001b[0m       (graph_function,\n\u001b[0;32m   2941\u001b[0m        filtered_flat_args) = self._maybe_define_function(args, kwargs)\n\u001b[1;32m-> 2942\u001b[1;33m     return graph_function._call_flat(\n\u001b[0m\u001b[0;32m   2943\u001b[0m         filtered_flat_args, captured_inputs=graph_function.captured_inputs)  # pylint: disable=protected-access\n\u001b[0;32m   2944\u001b[0m \u001b[1;33m\u001b[0m\u001b[0m\n",
      "\u001b[1;32m~\\anaconda3\\lib\\site-packages\\tensorflow\\python\\eager\\function.py\u001b[0m in \u001b[0;36m_call_flat\u001b[1;34m(self, args, captured_inputs, cancellation_manager)\u001b[0m\n\u001b[0;32m   1916\u001b[0m         and executing_eagerly):\n\u001b[0;32m   1917\u001b[0m       \u001b[1;31m# No tape is watching; skip to running the function.\u001b[0m\u001b[1;33m\u001b[0m\u001b[1;33m\u001b[0m\u001b[1;33m\u001b[0m\u001b[0m\n\u001b[1;32m-> 1918\u001b[1;33m       return self._build_call_outputs(self._inference_function.call(\n\u001b[0m\u001b[0;32m   1919\u001b[0m           ctx, args, cancellation_manager=cancellation_manager))\n\u001b[0;32m   1920\u001b[0m     forward_backward = self._select_forward_and_backward_functions(\n",
      "\u001b[1;32m~\\anaconda3\\lib\\site-packages\\tensorflow\\python\\eager\\function.py\u001b[0m in \u001b[0;36mcall\u001b[1;34m(self, ctx, args, cancellation_manager)\u001b[0m\n\u001b[0;32m    553\u001b[0m       \u001b[1;32mwith\u001b[0m \u001b[0m_InterpolateFunctionError\u001b[0m\u001b[1;33m(\u001b[0m\u001b[0mself\u001b[0m\u001b[1;33m)\u001b[0m\u001b[1;33m:\u001b[0m\u001b[1;33m\u001b[0m\u001b[1;33m\u001b[0m\u001b[0m\n\u001b[0;32m    554\u001b[0m         \u001b[1;32mif\u001b[0m \u001b[0mcancellation_manager\u001b[0m \u001b[1;32mis\u001b[0m \u001b[1;32mNone\u001b[0m\u001b[1;33m:\u001b[0m\u001b[1;33m\u001b[0m\u001b[1;33m\u001b[0m\u001b[0m\n\u001b[1;32m--> 555\u001b[1;33m           outputs = execute.execute(\n\u001b[0m\u001b[0;32m    556\u001b[0m               \u001b[0mstr\u001b[0m\u001b[1;33m(\u001b[0m\u001b[0mself\u001b[0m\u001b[1;33m.\u001b[0m\u001b[0msignature\u001b[0m\u001b[1;33m.\u001b[0m\u001b[0mname\u001b[0m\u001b[1;33m)\u001b[0m\u001b[1;33m,\u001b[0m\u001b[1;33m\u001b[0m\u001b[1;33m\u001b[0m\u001b[0m\n\u001b[0;32m    557\u001b[0m               \u001b[0mnum_outputs\u001b[0m\u001b[1;33m=\u001b[0m\u001b[0mself\u001b[0m\u001b[1;33m.\u001b[0m\u001b[0m_num_outputs\u001b[0m\u001b[1;33m,\u001b[0m\u001b[1;33m\u001b[0m\u001b[1;33m\u001b[0m\u001b[0m\n",
      "\u001b[1;32m~\\anaconda3\\lib\\site-packages\\tensorflow\\python\\eager\\execute.py\u001b[0m in \u001b[0;36mquick_execute\u001b[1;34m(op_name, num_outputs, inputs, attrs, ctx, name)\u001b[0m\n\u001b[0;32m     57\u001b[0m   \u001b[1;32mtry\u001b[0m\u001b[1;33m:\u001b[0m\u001b[1;33m\u001b[0m\u001b[1;33m\u001b[0m\u001b[0m\n\u001b[0;32m     58\u001b[0m     \u001b[0mctx\u001b[0m\u001b[1;33m.\u001b[0m\u001b[0mensure_initialized\u001b[0m\u001b[1;33m(\u001b[0m\u001b[1;33m)\u001b[0m\u001b[1;33m\u001b[0m\u001b[1;33m\u001b[0m\u001b[0m\n\u001b[1;32m---> 59\u001b[1;33m     tensors = pywrap_tfe.TFE_Py_Execute(ctx._handle, device_name, op_name,\n\u001b[0m\u001b[0;32m     60\u001b[0m                                         inputs, attrs, num_outputs)\n\u001b[0;32m     61\u001b[0m   \u001b[1;32mexcept\u001b[0m \u001b[0mcore\u001b[0m\u001b[1;33m.\u001b[0m\u001b[0m_NotOkStatusException\u001b[0m \u001b[1;32mas\u001b[0m \u001b[0me\u001b[0m\u001b[1;33m:\u001b[0m\u001b[1;33m\u001b[0m\u001b[1;33m\u001b[0m\u001b[0m\n",
      "\u001b[1;31mKeyboardInterrupt\u001b[0m: "
     ]
    }
   ],
   "source": [
    "hist=model.fit(padded_seq,y,batch_size=32,epochs=10,validation_split=0.3)"
   ]
  },
  {
   "cell_type": "markdown",
   "metadata": {},
   "source": [
    "### Using TFIDF"
   ]
  },
  {
   "cell_type": "code",
   "execution_count": 50,
   "metadata": {},
   "outputs": [],
   "source": [
    "from sklearn.feature_extraction.text import TfidfVectorizer\n",
    "tfidf=TfidfVectorizer()\n",
    "x_vec=tfidf.fit_transform(x)"
   ]
  },
  {
   "cell_type": "markdown",
   "metadata": {},
   "source": [
    "## Creating the model"
   ]
  },
  {
   "cell_type": "code",
   "execution_count": 54,
   "metadata": {},
   "outputs": [],
   "source": [
    "from sklearn.model_selection import train_test_split\n",
    "xtr,xte,ytr,yte=train_test_split(x_vec,y,test_size=0.3,random_state=12)"
   ]
  },
  {
   "cell_type": "code",
   "execution_count": 55,
   "metadata": {},
   "outputs": [
    {
     "name": "stdout",
     "output_type": "stream",
     "text": [
      "(38504, 45301) (38504,) (16502, 45301) (16502,)\n"
     ]
    }
   ],
   "source": [
    "print(xtr.shape,ytr.shape,xte.shape,yte.shape)"
   ]
  },
  {
   "cell_type": "markdown",
   "metadata": {},
   "source": [
    "### ExtraTreesRegressor"
   ]
  },
  {
   "cell_type": "code",
   "execution_count": 125,
   "metadata": {},
   "outputs": [],
   "source": [
    "from sklearn.ensemble import ExtraTreesRegressor\n",
    "etr=ExtraTreesRegressor(n_estimators=100,max_depth=5)"
   ]
  },
  {
   "cell_type": "code",
   "execution_count": 126,
   "metadata": {},
   "outputs": [
    {
     "data": {
      "text/plain": [
       "ExtraTreesRegressor(max_depth=5)"
      ]
     },
     "execution_count": 126,
     "metadata": {},
     "output_type": "execute_result"
    }
   ],
   "source": [
    "etr.fit(xtr,ytr)"
   ]
  },
  {
   "cell_type": "code",
   "execution_count": 127,
   "metadata": {},
   "outputs": [],
   "source": [
    "y_bar=etr.predict(xte)"
   ]
  },
  {
   "cell_type": "code",
   "execution_count": 141,
   "metadata": {},
   "outputs": [],
   "source": [
    "yte=yte.values"
   ]
  },
  {
   "cell_type": "code",
   "execution_count": 148,
   "metadata": {},
   "outputs": [
    {
     "data": {
      "text/plain": [
       "array([ 2,  2,  3,  6,  3,  4,  6,  3,  2,  1,  1,  3, 64,  6,  1,  2,  2,\n",
       "        4,  1,  0], dtype=int64)"
      ]
     },
     "execution_count": 148,
     "metadata": {},
     "output_type": "execute_result"
    }
   ],
   "source": [
    "yte[:20]"
   ]
  },
  {
   "cell_type": "code",
   "execution_count": 152,
   "metadata": {},
   "outputs": [
    {
     "data": {
      "text/plain": [
       "array([4.72844201, 4.72844201, 4.72844201, 4.72844201, 4.72844201,\n",
       "       4.72844201, 4.72844201, 4.72844201, 4.72844201, 4.72844201,\n",
       "       4.72844201, 4.72844201, 4.72844201, 4.72844201, 4.72844201,\n",
       "       4.72844201, 4.72844201, 4.72844201, 4.72844201, 4.72844201])"
      ]
     },
     "execution_count": 152,
     "metadata": {},
     "output_type": "execute_result"
    }
   ],
   "source": [
    "y_bar[:20]"
   ]
  },
  {
   "cell_type": "markdown",
   "metadata": {},
   "source": [
    "### LinearRegression"
   ]
  },
  {
   "cell_type": "code",
   "execution_count": 56,
   "metadata": {},
   "outputs": [
    {
     "data": {
      "text/plain": [
       "LinearRegression()"
      ]
     },
     "execution_count": 56,
     "metadata": {},
     "output_type": "execute_result"
    }
   ],
   "source": [
    "from sklearn.linear_model import LinearRegression\n",
    "lr=LinearRegression()\n",
    "lr.fit(xtr,ytr)"
   ]
  },
  {
   "cell_type": "code",
   "execution_count": 58,
   "metadata": {},
   "outputs": [],
   "source": [
    "y_bar=lr.predict(xte)"
   ]
  },
  {
   "cell_type": "code",
   "execution_count": 60,
   "metadata": {},
   "outputs": [
    {
     "data": {
      "text/plain": [
       "448520     2\n",
       "649761     2\n",
       "272008     3\n",
       "316804     6\n",
       "313375     3\n",
       "155028     4\n",
       "146751     6\n",
       "527913     3\n",
       "521179     2\n",
       "250433     1\n",
       "281615     1\n",
       "227690     3\n",
       "65602     64\n",
       "169095     6\n",
       "93537      1\n",
       "485018     2\n",
       "836914     2\n",
       "701631     4\n",
       "597426     1\n",
       "507722     0\n",
       "Name: score, dtype: int64"
      ]
     },
     "execution_count": 60,
     "metadata": {},
     "output_type": "execute_result"
    }
   ],
   "source": [
    "yte[:20]"
   ]
  },
  {
   "cell_type": "code",
   "execution_count": 61,
   "metadata": {},
   "outputs": [
    {
     "data": {
      "text/plain": [
       "array([  5.73330151,  -2.05523801,   5.15453645,  41.98346639,\n",
       "       -23.09150755,   1.29575738,   0.70849176,   7.34936021,\n",
       "        -2.73965296,   5.66951156,  -6.99157028,  -2.77485703,\n",
       "        56.59480901, -20.27972976, -12.69662798, -53.94254226,\n",
       "        18.86449952,   6.43612577, -18.05670591,   5.31680484])"
      ]
     },
     "execution_count": 61,
     "metadata": {},
     "output_type": "execute_result"
    }
   ],
   "source": [
    "y_bar[:20]"
   ]
  }
 ],
 "metadata": {
  "kernelspec": {
   "display_name": "Python 3",
   "language": "python",
   "name": "python3"
  },
  "language_info": {
   "codemirror_mode": {
    "name": "ipython",
    "version": 3
   },
   "file_extension": ".py",
   "mimetype": "text/x-python",
   "name": "python",
   "nbconvert_exporter": "python",
   "pygments_lexer": "ipython3",
   "version": "3.8.5"
  },
  "widgets": {
   "application/vnd.jupyter.widget-state+json": {
    "state": {},
    "version_major": 2,
    "version_minor": 0
   }
  }
 },
 "nbformat": 4,
 "nbformat_minor": 4
}
